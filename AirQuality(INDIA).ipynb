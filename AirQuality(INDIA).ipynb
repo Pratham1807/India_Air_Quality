{
 "cells": [
  {
   "cell_type": "markdown",
   "metadata": {},
   "source": [
    "## Air Pollution in India\n",
    "\n",
    "**Air pollution occurs when harmful or excessive qualities of substances including gases, particles, and biological molecules are introduced into the Earth's atmosphere. Air pollution in India is a serious issue, ranking higher than smoking, high blood pressure, child and maternal malnutrition, and risk factors for diabetes. At least 140 million people breathe air 10 times or more over the WHO safe limit and 13 of the world's 20 cities with the highest annual levels of air pollution are in India.**\n",
    "\n",
    "<img src=\"images/air_pollution.jpg\" alt=\"Drawing\" style=\"width: 300px;\" align=\"left\"/>"
   ]
  },
  {
   "cell_type": "markdown",
   "metadata": {},
   "source": [
    "<img src=\"images/Sources_of_Air_Pollution.png\" alt=\"Drawing\" style=\"width: 300px;\" align=\"right\"/>\n",
    "\n",
    "**There are four main types of air pollution sources:**\n",
    "\n",
    "-  mobile sources – such as cars, buses, planes, trucks, and trains\n",
    "-  stationary sources – such as power plants, oil refineries, industrial facilities, and factories\n",
    "-  area sources – such as agricultural areas, cities, and wood burning fireplaces\n",
    "-  natural sources – such as wind-blown dust, wildfires, and volcanoes\n",
    "\n",
    "**Pollution from human-generated and natural sources is often created in one place and transported through the air. Sometimes chemical reactions in the atmosphere change pollutants before they are deposited. Pollutants in the air can create haze, making it harder to see, and pollutant deposition can have biological effects. NPS areas experience these effects just like other places. Location and even the time of year can determine which pollution sources are most important to each park.**\n"
   ]
  },
  {
   "cell_type": "markdown",
   "metadata": {},
   "source": [
    "### India Air Quality"
   ]
  },
  {
   "cell_type": "code",
   "execution_count": 1,
   "metadata": {},
   "outputs": [],
   "source": [
    "import numpy as np\n",
    "import pandas as pd\n",
    "import matplotlib.pyplot as plt\n",
    "import seaborn as sns\n",
    "%matplotlib inline"
   ]
  },
  {
   "cell_type": "code",
   "execution_count": 2,
   "metadata": {},
   "outputs": [
    {
     "name": "stderr",
     "output_type": "stream",
     "text": [
      "C:\\Users\\prath\\Anaconda3\\envs\\DL\\lib\\site-packages\\IPython\\core\\interactiveshell.py:3020: DtypeWarning: Columns (0) have mixed types. Specify dtype option on import or set low_memory=False.\n",
      "  interactivity=interactivity, compiler=compiler, result=result)\n"
     ]
    },
    {
     "data": {
      "text/html": [
       "<div>\n",
       "<style scoped>\n",
       "    .dataframe tbody tr th:only-of-type {\n",
       "        vertical-align: middle;\n",
       "    }\n",
       "\n",
       "    .dataframe tbody tr th {\n",
       "        vertical-align: top;\n",
       "    }\n",
       "\n",
       "    .dataframe thead th {\n",
       "        text-align: right;\n",
       "    }\n",
       "</style>\n",
       "<table border=\"1\" class=\"dataframe\">\n",
       "  <thead>\n",
       "    <tr style=\"text-align: right;\">\n",
       "      <th></th>\n",
       "      <th>stn_code</th>\n",
       "      <th>sampling_date</th>\n",
       "      <th>state</th>\n",
       "      <th>location</th>\n",
       "      <th>agency</th>\n",
       "      <th>type</th>\n",
       "      <th>so2</th>\n",
       "      <th>no2</th>\n",
       "      <th>rspm</th>\n",
       "      <th>spm</th>\n",
       "      <th>location_monitoring_station</th>\n",
       "      <th>pm2_5</th>\n",
       "      <th>date</th>\n",
       "    </tr>\n",
       "  </thead>\n",
       "  <tbody>\n",
       "    <tr>\n",
       "      <th>0</th>\n",
       "      <td>150</td>\n",
       "      <td>February - M021990</td>\n",
       "      <td>Andhra Pradesh</td>\n",
       "      <td>Hyderabad</td>\n",
       "      <td>NaN</td>\n",
       "      <td>Residential, Rural and other Areas</td>\n",
       "      <td>4.8</td>\n",
       "      <td>17.4</td>\n",
       "      <td>NaN</td>\n",
       "      <td>NaN</td>\n",
       "      <td>NaN</td>\n",
       "      <td>NaN</td>\n",
       "      <td>1990-02-01</td>\n",
       "    </tr>\n",
       "    <tr>\n",
       "      <th>1</th>\n",
       "      <td>151</td>\n",
       "      <td>February - M021990</td>\n",
       "      <td>Andhra Pradesh</td>\n",
       "      <td>Hyderabad</td>\n",
       "      <td>NaN</td>\n",
       "      <td>Industrial Area</td>\n",
       "      <td>3.1</td>\n",
       "      <td>7.0</td>\n",
       "      <td>NaN</td>\n",
       "      <td>NaN</td>\n",
       "      <td>NaN</td>\n",
       "      <td>NaN</td>\n",
       "      <td>1990-02-01</td>\n",
       "    </tr>\n",
       "    <tr>\n",
       "      <th>2</th>\n",
       "      <td>152</td>\n",
       "      <td>February - M021990</td>\n",
       "      <td>Andhra Pradesh</td>\n",
       "      <td>Hyderabad</td>\n",
       "      <td>NaN</td>\n",
       "      <td>Residential, Rural and other Areas</td>\n",
       "      <td>6.2</td>\n",
       "      <td>28.5</td>\n",
       "      <td>NaN</td>\n",
       "      <td>NaN</td>\n",
       "      <td>NaN</td>\n",
       "      <td>NaN</td>\n",
       "      <td>1990-02-01</td>\n",
       "    </tr>\n",
       "    <tr>\n",
       "      <th>3</th>\n",
       "      <td>150</td>\n",
       "      <td>March - M031990</td>\n",
       "      <td>Andhra Pradesh</td>\n",
       "      <td>Hyderabad</td>\n",
       "      <td>NaN</td>\n",
       "      <td>Residential, Rural and other Areas</td>\n",
       "      <td>6.3</td>\n",
       "      <td>14.7</td>\n",
       "      <td>NaN</td>\n",
       "      <td>NaN</td>\n",
       "      <td>NaN</td>\n",
       "      <td>NaN</td>\n",
       "      <td>1990-03-01</td>\n",
       "    </tr>\n",
       "    <tr>\n",
       "      <th>4</th>\n",
       "      <td>151</td>\n",
       "      <td>March - M031990</td>\n",
       "      <td>Andhra Pradesh</td>\n",
       "      <td>Hyderabad</td>\n",
       "      <td>NaN</td>\n",
       "      <td>Industrial Area</td>\n",
       "      <td>4.7</td>\n",
       "      <td>7.5</td>\n",
       "      <td>NaN</td>\n",
       "      <td>NaN</td>\n",
       "      <td>NaN</td>\n",
       "      <td>NaN</td>\n",
       "      <td>1990-03-01</td>\n",
       "    </tr>\n",
       "  </tbody>\n",
       "</table>\n",
       "</div>"
      ],
      "text/plain": [
       "  stn_code       sampling_date           state   location agency  \\\n",
       "0      150  February - M021990  Andhra Pradesh  Hyderabad    NaN   \n",
       "1      151  February - M021990  Andhra Pradesh  Hyderabad    NaN   \n",
       "2      152  February - M021990  Andhra Pradesh  Hyderabad    NaN   \n",
       "3      150     March - M031990  Andhra Pradesh  Hyderabad    NaN   \n",
       "4      151     March - M031990  Andhra Pradesh  Hyderabad    NaN   \n",
       "\n",
       "                                 type  so2   no2  rspm  spm  \\\n",
       "0  Residential, Rural and other Areas  4.8  17.4   NaN  NaN   \n",
       "1                     Industrial Area  3.1   7.0   NaN  NaN   \n",
       "2  Residential, Rural and other Areas  6.2  28.5   NaN  NaN   \n",
       "3  Residential, Rural and other Areas  6.3  14.7   NaN  NaN   \n",
       "4                     Industrial Area  4.7   7.5   NaN  NaN   \n",
       "\n",
       "  location_monitoring_station  pm2_5        date  \n",
       "0                         NaN    NaN  1990-02-01  \n",
       "1                         NaN    NaN  1990-02-01  \n",
       "2                         NaN    NaN  1990-02-01  \n",
       "3                         NaN    NaN  1990-03-01  \n",
       "4                         NaN    NaN  1990-03-01  "
      ]
     },
     "execution_count": 2,
     "metadata": {},
     "output_type": "execute_result"
    }
   ],
   "source": [
    "df = pd.read_csv('data.csv',encoding = \"ISO-8859-1\")\n",
    "df.head()"
   ]
  },
  {
   "cell_type": "markdown",
   "metadata": {},
   "source": [
    "**from the output above we can clearly see that there are several NULL values in our data which we neeed to tackle**"
   ]
  },
  {
   "cell_type": "code",
   "execution_count": 3,
   "metadata": {},
   "outputs": [
    {
     "data": {
      "text/plain": [
       "(435742, 13)"
      ]
     },
     "execution_count": 3,
     "metadata": {},
     "output_type": "execute_result"
    }
   ],
   "source": [
    "df.shape"
   ]
  },
  {
   "cell_type": "code",
   "execution_count": 4,
   "metadata": {},
   "outputs": [
    {
     "name": "stdout",
     "output_type": "stream",
     "text": [
      "<class 'pandas.core.frame.DataFrame'>\n",
      "RangeIndex: 435742 entries, 0 to 435741\n",
      "Data columns (total 13 columns):\n",
      "stn_code                       291665 non-null object\n",
      "sampling_date                  435739 non-null object\n",
      "state                          435742 non-null object\n",
      "location                       435739 non-null object\n",
      "agency                         286261 non-null object\n",
      "type                           430349 non-null object\n",
      "so2                            401096 non-null float64\n",
      "no2                            419509 non-null float64\n",
      "rspm                           395520 non-null float64\n",
      "spm                            198355 non-null float64\n",
      "location_monitoring_station    408251 non-null object\n",
      "pm2_5                          9314 non-null float64\n",
      "date                           435735 non-null object\n",
      "dtypes: float64(5), object(8)\n",
      "memory usage: 43.2+ MB\n"
     ]
    }
   ],
   "source": [
    "df.info()"
   ]
  },
  {
   "cell_type": "code",
   "execution_count": 5,
   "metadata": {},
   "outputs": [
    {
     "data": {
      "text/plain": [
       "Index(['stn_code', 'sampling_date', 'state', 'location', 'agency', 'type',\n",
       "       'so2', 'no2', 'rspm', 'spm', 'location_monitoring_station', 'pm2_5',\n",
       "       'date'],\n",
       "      dtype='object')"
      ]
     },
     "execution_count": 5,
     "metadata": {},
     "output_type": "execute_result"
    }
   ],
   "source": [
    "# looking at all the columns of the dataframe\n",
    "df.columns"
   ]
  },
  {
   "cell_type": "markdown",
   "metadata": {},
   "source": [
    "*Column-wise no. of NULL values*"
   ]
  },
  {
   "cell_type": "code",
   "execution_count": 6,
   "metadata": {},
   "outputs": [
    {
     "name": "stdout",
     "output_type": "stream",
     "text": [
      "stn_code : 144077\n",
      "sampling_date : 3\n",
      "state : 0\n",
      "location : 3\n",
      "agency : 149481\n",
      "type : 5393\n",
      "so2 : 34646\n",
      "no2 : 16233\n",
      "rspm : 40222\n",
      "spm : 237387\n",
      "location_monitoring_station : 27491\n",
      "pm2_5 : 426428\n",
      "date : 7\n"
     ]
    }
   ],
   "source": [
    "for col in df.columns:\n",
    "    print(col,\":\",df[col].isnull().sum())"
   ]
  },
  {
   "cell_type": "markdown",
   "metadata": {},
   "source": [
    "**From this we can clearly see that a large amount of values are missing in our data**\n",
    "\n",
    "**We have a large no. of missing values in the following columns**\n",
    "\n",
    "-  pm2_5\n",
    "-  spm\n",
    "-  agency\n",
    "-  stn_code\n",
    "\n",
    "*from the above if we drop the columns **agency** and **stn_code** we might not be at huge risk of data loss.*\n",
    "\n",
    "*Also other features like **sampling_date** and **location_monitoring_station** do not pose much importance to our data as other features might do.*\n",
    "\n",
    "*These feature would have been useful if one wants to go deep into the EDA*\n",
    "\n",
    "*Also sampling_date looks some what alike the date feature so we could remove the feature with no or minimal loss of data.*"
   ]
  },
  {
   "cell_type": "code",
   "execution_count": 7,
   "metadata": {},
   "outputs": [
    {
     "data": {
      "text/html": [
       "<div>\n",
       "<style scoped>\n",
       "    .dataframe tbody tr th:only-of-type {\n",
       "        vertical-align: middle;\n",
       "    }\n",
       "\n",
       "    .dataframe tbody tr th {\n",
       "        vertical-align: top;\n",
       "    }\n",
       "\n",
       "    .dataframe thead th {\n",
       "        text-align: right;\n",
       "    }\n",
       "</style>\n",
       "<table border=\"1\" class=\"dataframe\">\n",
       "  <thead>\n",
       "    <tr style=\"text-align: right;\">\n",
       "      <th></th>\n",
       "      <th>state</th>\n",
       "      <th>location</th>\n",
       "      <th>type</th>\n",
       "      <th>so2</th>\n",
       "      <th>no2</th>\n",
       "      <th>rspm</th>\n",
       "      <th>spm</th>\n",
       "      <th>pm2_5</th>\n",
       "      <th>date</th>\n",
       "    </tr>\n",
       "  </thead>\n",
       "  <tbody>\n",
       "    <tr>\n",
       "      <th>0</th>\n",
       "      <td>Andhra Pradesh</td>\n",
       "      <td>Hyderabad</td>\n",
       "      <td>Residential, Rural and other Areas</td>\n",
       "      <td>4.8</td>\n",
       "      <td>17.4</td>\n",
       "      <td>NaN</td>\n",
       "      <td>NaN</td>\n",
       "      <td>NaN</td>\n",
       "      <td>1990-02-01</td>\n",
       "    </tr>\n",
       "    <tr>\n",
       "      <th>1</th>\n",
       "      <td>Andhra Pradesh</td>\n",
       "      <td>Hyderabad</td>\n",
       "      <td>Industrial Area</td>\n",
       "      <td>3.1</td>\n",
       "      <td>7.0</td>\n",
       "      <td>NaN</td>\n",
       "      <td>NaN</td>\n",
       "      <td>NaN</td>\n",
       "      <td>1990-02-01</td>\n",
       "    </tr>\n",
       "    <tr>\n",
       "      <th>2</th>\n",
       "      <td>Andhra Pradesh</td>\n",
       "      <td>Hyderabad</td>\n",
       "      <td>Residential, Rural and other Areas</td>\n",
       "      <td>6.2</td>\n",
       "      <td>28.5</td>\n",
       "      <td>NaN</td>\n",
       "      <td>NaN</td>\n",
       "      <td>NaN</td>\n",
       "      <td>1990-02-01</td>\n",
       "    </tr>\n",
       "    <tr>\n",
       "      <th>3</th>\n",
       "      <td>Andhra Pradesh</td>\n",
       "      <td>Hyderabad</td>\n",
       "      <td>Residential, Rural and other Areas</td>\n",
       "      <td>6.3</td>\n",
       "      <td>14.7</td>\n",
       "      <td>NaN</td>\n",
       "      <td>NaN</td>\n",
       "      <td>NaN</td>\n",
       "      <td>1990-03-01</td>\n",
       "    </tr>\n",
       "    <tr>\n",
       "      <th>4</th>\n",
       "      <td>Andhra Pradesh</td>\n",
       "      <td>Hyderabad</td>\n",
       "      <td>Industrial Area</td>\n",
       "      <td>4.7</td>\n",
       "      <td>7.5</td>\n",
       "      <td>NaN</td>\n",
       "      <td>NaN</td>\n",
       "      <td>NaN</td>\n",
       "      <td>1990-03-01</td>\n",
       "    </tr>\n",
       "  </tbody>\n",
       "</table>\n",
       "</div>"
      ],
      "text/plain": [
       "            state   location                                type  so2   no2  \\\n",
       "0  Andhra Pradesh  Hyderabad  Residential, Rural and other Areas  4.8  17.4   \n",
       "1  Andhra Pradesh  Hyderabad                     Industrial Area  3.1   7.0   \n",
       "2  Andhra Pradesh  Hyderabad  Residential, Rural and other Areas  6.2  28.5   \n",
       "3  Andhra Pradesh  Hyderabad  Residential, Rural and other Areas  6.3  14.7   \n",
       "4  Andhra Pradesh  Hyderabad                     Industrial Area  4.7   7.5   \n",
       "\n",
       "   rspm  spm  pm2_5        date  \n",
       "0   NaN  NaN    NaN  1990-02-01  \n",
       "1   NaN  NaN    NaN  1990-02-01  \n",
       "2   NaN  NaN    NaN  1990-02-01  \n",
       "3   NaN  NaN    NaN  1990-03-01  \n",
       "4   NaN  NaN    NaN  1990-03-01  "
      ]
     },
     "execution_count": 7,
     "metadata": {},
     "output_type": "execute_result"
    }
   ],
   "source": [
    "df.drop(['stn_code','agency','sampling_date','location_monitoring_station'],axis=1,inplace=True)\n",
    "df.head()"
   ]
  },
  {
   "cell_type": "code",
   "execution_count": 8,
   "metadata": {},
   "outputs": [
    {
     "name": "stdout",
     "output_type": "stream",
     "text": [
      "state : 0\n",
      "location : 3\n",
      "type : 5393\n",
      "so2 : 34646\n",
      "no2 : 16233\n",
      "rspm : 40222\n",
      "spm : 237387\n",
      "pm2_5 : 426428\n",
      "date : 7\n"
     ]
    }
   ],
   "source": [
    "for col in df.columns:\n",
    "    print(col,\":\",df[col].isnull().sum())"
   ]
  },
  {
   "cell_type": "markdown",
   "metadata": {},
   "source": [
    "**Now our task is to remove all the NULL values from the columns that concern us the most ie. so2, no2, rspm, spm, pm2_5.**\n",
    "**But first let us explore other features and see if we can get some insights into the data from them.**"
   ]
  },
  {
   "cell_type": "code",
   "execution_count": 9,
   "metadata": {},
   "outputs": [
    {
     "data": {
      "text/plain": [
       "array(['Andhra Pradesh', 'Arunachal Pradesh', 'Assam', 'Bihar',\n",
       "       'Chandigarh', 'Chhattisgarh', 'Dadra & Nagar Haveli',\n",
       "       'Daman & Diu', 'Delhi', 'Goa', 'Gujarat', 'Haryana',\n",
       "       'Himachal Pradesh', 'Jammu & Kashmir', 'Jharkhand', 'Karnataka',\n",
       "       'Kerala', 'Madhya Pradesh', 'Maharashtra', 'Manipur', 'Meghalaya',\n",
       "       'Mizoram', 'Nagaland', 'Odisha', 'Puducherry', 'Punjab',\n",
       "       'Rajasthan', 'Sikkim', 'Tamil Nadu', 'Telangana', 'Uttar Pradesh',\n",
       "       'Uttarakhand', 'Uttaranchal', 'West Bengal',\n",
       "       'andaman-and-nicobar-islands', 'Lakshadweep', 'Tripura'],\n",
       "      dtype=object)"
      ]
     },
     "execution_count": 9,
     "metadata": {},
     "output_type": "execute_result"
    }
   ],
   "source": [
    "df.state.unique()"
   ]
  },
  {
   "cell_type": "code",
   "execution_count": 10,
   "metadata": {},
   "outputs": [
    {
     "data": {
      "text/html": [
       "<div>\n",
       "<style scoped>\n",
       "    .dataframe tbody tr th:only-of-type {\n",
       "        vertical-align: middle;\n",
       "    }\n",
       "\n",
       "    .dataframe tbody tr th {\n",
       "        vertical-align: top;\n",
       "    }\n",
       "\n",
       "    .dataframe thead th {\n",
       "        text-align: right;\n",
       "    }\n",
       "</style>\n",
       "<table border=\"1\" class=\"dataframe\">\n",
       "  <thead>\n",
       "    <tr style=\"text-align: right;\">\n",
       "      <th></th>\n",
       "      <th>location</th>\n",
       "      <th>type</th>\n",
       "      <th>so2</th>\n",
       "      <th>no2</th>\n",
       "      <th>rspm</th>\n",
       "      <th>spm</th>\n",
       "      <th>pm2_5</th>\n",
       "      <th>date</th>\n",
       "    </tr>\n",
       "    <tr>\n",
       "      <th>state</th>\n",
       "      <th></th>\n",
       "      <th></th>\n",
       "      <th></th>\n",
       "      <th></th>\n",
       "      <th></th>\n",
       "      <th></th>\n",
       "      <th></th>\n",
       "      <th></th>\n",
       "    </tr>\n",
       "  </thead>\n",
       "  <tbody>\n",
       "    <tr>\n",
       "      <th>Andhra Pradesh</th>\n",
       "      <td>26368</td>\n",
       "      <td>25758</td>\n",
       "      <td>25681</td>\n",
       "      <td>25817</td>\n",
       "      <td>25228</td>\n",
       "      <td>11789</td>\n",
       "      <td>0</td>\n",
       "      <td>26368</td>\n",
       "    </tr>\n",
       "    <tr>\n",
       "      <th>Arunachal Pradesh</th>\n",
       "      <td>90</td>\n",
       "      <td>90</td>\n",
       "      <td>67</td>\n",
       "      <td>66</td>\n",
       "      <td>89</td>\n",
       "      <td>0</td>\n",
       "      <td>0</td>\n",
       "      <td>90</td>\n",
       "    </tr>\n",
       "    <tr>\n",
       "      <th>Assam</th>\n",
       "      <td>19361</td>\n",
       "      <td>19116</td>\n",
       "      <td>19228</td>\n",
       "      <td>19282</td>\n",
       "      <td>19083</td>\n",
       "      <td>5895</td>\n",
       "      <td>0</td>\n",
       "      <td>19361</td>\n",
       "    </tr>\n",
       "    <tr>\n",
       "      <th>Bihar</th>\n",
       "      <td>2275</td>\n",
       "      <td>2136</td>\n",
       "      <td>2127</td>\n",
       "      <td>2190</td>\n",
       "      <td>1333</td>\n",
       "      <td>1780</td>\n",
       "      <td>0</td>\n",
       "      <td>2275</td>\n",
       "    </tr>\n",
       "    <tr>\n",
       "      <th>Chandigarh</th>\n",
       "      <td>8520</td>\n",
       "      <td>8520</td>\n",
       "      <td>4419</td>\n",
       "      <td>7586</td>\n",
       "      <td>8142</td>\n",
       "      <td>4951</td>\n",
       "      <td>0</td>\n",
       "      <td>8520</td>\n",
       "    </tr>\n",
       "    <tr>\n",
       "      <th>Chhattisgarh</th>\n",
       "      <td>7831</td>\n",
       "      <td>7831</td>\n",
       "      <td>7329</td>\n",
       "      <td>7495</td>\n",
       "      <td>6764</td>\n",
       "      <td>3942</td>\n",
       "      <td>0</td>\n",
       "      <td>7831</td>\n",
       "    </tr>\n",
       "    <tr>\n",
       "      <th>Dadra &amp; Nagar Haveli</th>\n",
       "      <td>634</td>\n",
       "      <td>603</td>\n",
       "      <td>629</td>\n",
       "      <td>629</td>\n",
       "      <td>438</td>\n",
       "      <td>422</td>\n",
       "      <td>43</td>\n",
       "      <td>634</td>\n",
       "    </tr>\n",
       "    <tr>\n",
       "      <th>Daman &amp; Diu</th>\n",
       "      <td>782</td>\n",
       "      <td>782</td>\n",
       "      <td>781</td>\n",
       "      <td>782</td>\n",
       "      <td>439</td>\n",
       "      <td>565</td>\n",
       "      <td>44</td>\n",
       "      <td>782</td>\n",
       "    </tr>\n",
       "    <tr>\n",
       "      <th>Delhi</th>\n",
       "      <td>8551</td>\n",
       "      <td>8551</td>\n",
       "      <td>7810</td>\n",
       "      <td>8007</td>\n",
       "      <td>6667</td>\n",
       "      <td>5459</td>\n",
       "      <td>371</td>\n",
       "      <td>8551</td>\n",
       "    </tr>\n",
       "    <tr>\n",
       "      <th>Goa</th>\n",
       "      <td>6206</td>\n",
       "      <td>6037</td>\n",
       "      <td>5141</td>\n",
       "      <td>5760</td>\n",
       "      <td>5875</td>\n",
       "      <td>3282</td>\n",
       "      <td>1390</td>\n",
       "      <td>6206</td>\n",
       "    </tr>\n",
       "    <tr>\n",
       "      <th>Gujarat</th>\n",
       "      <td>21279</td>\n",
       "      <td>20845</td>\n",
       "      <td>21188</td>\n",
       "      <td>21234</td>\n",
       "      <td>19072</td>\n",
       "      <td>13907</td>\n",
       "      <td>2401</td>\n",
       "      <td>21279</td>\n",
       "    </tr>\n",
       "    <tr>\n",
       "      <th>Haryana</th>\n",
       "      <td>3420</td>\n",
       "      <td>3420</td>\n",
       "      <td>3139</td>\n",
       "      <td>3013</td>\n",
       "      <td>2923</td>\n",
       "      <td>1790</td>\n",
       "      <td>0</td>\n",
       "      <td>3420</td>\n",
       "    </tr>\n",
       "    <tr>\n",
       "      <th>Himachal Pradesh</th>\n",
       "      <td>22896</td>\n",
       "      <td>22896</td>\n",
       "      <td>16593</td>\n",
       "      <td>20654</td>\n",
       "      <td>18625</td>\n",
       "      <td>8535</td>\n",
       "      <td>0</td>\n",
       "      <td>22896</td>\n",
       "    </tr>\n",
       "    <tr>\n",
       "      <th>Jammu &amp; Kashmir</th>\n",
       "      <td>1289</td>\n",
       "      <td>1289</td>\n",
       "      <td>1268</td>\n",
       "      <td>1267</td>\n",
       "      <td>1257</td>\n",
       "      <td>95</td>\n",
       "      <td>0</td>\n",
       "      <td>1289</td>\n",
       "    </tr>\n",
       "    <tr>\n",
       "      <th>Jharkhand</th>\n",
       "      <td>5968</td>\n",
       "      <td>5968</td>\n",
       "      <td>5850</td>\n",
       "      <td>5835</td>\n",
       "      <td>5877</td>\n",
       "      <td>2668</td>\n",
       "      <td>0</td>\n",
       "      <td>5968</td>\n",
       "    </tr>\n",
       "    <tr>\n",
       "      <th>Karnataka</th>\n",
       "      <td>17119</td>\n",
       "      <td>17119</td>\n",
       "      <td>16152</td>\n",
       "      <td>16686</td>\n",
       "      <td>16256</td>\n",
       "      <td>7459</td>\n",
       "      <td>0</td>\n",
       "      <td>17118</td>\n",
       "    </tr>\n",
       "    <tr>\n",
       "      <th>Kerala</th>\n",
       "      <td>24728</td>\n",
       "      <td>24027</td>\n",
       "      <td>22394</td>\n",
       "      <td>23359</td>\n",
       "      <td>22682</td>\n",
       "      <td>10555</td>\n",
       "      <td>0</td>\n",
       "      <td>24728</td>\n",
       "    </tr>\n",
       "    <tr>\n",
       "      <th>Lakshadweep</th>\n",
       "      <td>0</td>\n",
       "      <td>0</td>\n",
       "      <td>0</td>\n",
       "      <td>0</td>\n",
       "      <td>0</td>\n",
       "      <td>0</td>\n",
       "      <td>0</td>\n",
       "      <td>0</td>\n",
       "    </tr>\n",
       "    <tr>\n",
       "      <th>Madhya Pradesh</th>\n",
       "      <td>19920</td>\n",
       "      <td>19586</td>\n",
       "      <td>17237</td>\n",
       "      <td>18047</td>\n",
       "      <td>16874</td>\n",
       "      <td>12017</td>\n",
       "      <td>829</td>\n",
       "      <td>19920</td>\n",
       "    </tr>\n",
       "    <tr>\n",
       "      <th>Maharashtra</th>\n",
       "      <td>60384</td>\n",
       "      <td>60090</td>\n",
       "      <td>58322</td>\n",
       "      <td>59167</td>\n",
       "      <td>55439</td>\n",
       "      <td>22345</td>\n",
       "      <td>0</td>\n",
       "      <td>60382</td>\n",
       "    </tr>\n",
       "    <tr>\n",
       "      <th>Manipur</th>\n",
       "      <td>76</td>\n",
       "      <td>76</td>\n",
       "      <td>25</td>\n",
       "      <td>76</td>\n",
       "      <td>76</td>\n",
       "      <td>76</td>\n",
       "      <td>0</td>\n",
       "      <td>76</td>\n",
       "    </tr>\n",
       "    <tr>\n",
       "      <th>Meghalaya</th>\n",
       "      <td>3853</td>\n",
       "      <td>3717</td>\n",
       "      <td>3343</td>\n",
       "      <td>3552</td>\n",
       "      <td>3711</td>\n",
       "      <td>818</td>\n",
       "      <td>0</td>\n",
       "      <td>3853</td>\n",
       "    </tr>\n",
       "    <tr>\n",
       "      <th>Mizoram</th>\n",
       "      <td>5338</td>\n",
       "      <td>5338</td>\n",
       "      <td>4355</td>\n",
       "      <td>4822</td>\n",
       "      <td>5328</td>\n",
       "      <td>1362</td>\n",
       "      <td>0</td>\n",
       "      <td>5338</td>\n",
       "    </tr>\n",
       "    <tr>\n",
       "      <th>Nagaland</th>\n",
       "      <td>2463</td>\n",
       "      <td>2463</td>\n",
       "      <td>1592</td>\n",
       "      <td>2241</td>\n",
       "      <td>2462</td>\n",
       "      <td>1249</td>\n",
       "      <td>0</td>\n",
       "      <td>2463</td>\n",
       "    </tr>\n",
       "    <tr>\n",
       "      <th>Odisha</th>\n",
       "      <td>19279</td>\n",
       "      <td>18676</td>\n",
       "      <td>16074</td>\n",
       "      <td>19007</td>\n",
       "      <td>18333</td>\n",
       "      <td>10908</td>\n",
       "      <td>2788</td>\n",
       "      <td>19278</td>\n",
       "    </tr>\n",
       "    <tr>\n",
       "      <th>Puducherry</th>\n",
       "      <td>3785</td>\n",
       "      <td>3785</td>\n",
       "      <td>3593</td>\n",
       "      <td>3565</td>\n",
       "      <td>3032</td>\n",
       "      <td>2042</td>\n",
       "      <td>0</td>\n",
       "      <td>3785</td>\n",
       "    </tr>\n",
       "    <tr>\n",
       "      <th>Punjab</th>\n",
       "      <td>25634</td>\n",
       "      <td>25386</td>\n",
       "      <td>24603</td>\n",
       "      <td>25171</td>\n",
       "      <td>21808</td>\n",
       "      <td>3688</td>\n",
       "      <td>0</td>\n",
       "      <td>25634</td>\n",
       "    </tr>\n",
       "    <tr>\n",
       "      <th>Rajasthan</th>\n",
       "      <td>25589</td>\n",
       "      <td>25144</td>\n",
       "      <td>25313</td>\n",
       "      <td>25229</td>\n",
       "      <td>22954</td>\n",
       "      <td>15767</td>\n",
       "      <td>0</td>\n",
       "      <td>25589</td>\n",
       "    </tr>\n",
       "    <tr>\n",
       "      <th>Sikkim</th>\n",
       "      <td>1</td>\n",
       "      <td>1</td>\n",
       "      <td>1</td>\n",
       "      <td>1</td>\n",
       "      <td>1</td>\n",
       "      <td>1</td>\n",
       "      <td>0</td>\n",
       "      <td>1</td>\n",
       "    </tr>\n",
       "    <tr>\n",
       "      <th>Tamil Nadu</th>\n",
       "      <td>20597</td>\n",
       "      <td>20243</td>\n",
       "      <td>19906</td>\n",
       "      <td>19981</td>\n",
       "      <td>18792</td>\n",
       "      <td>9530</td>\n",
       "      <td>454</td>\n",
       "      <td>20597</td>\n",
       "    </tr>\n",
       "    <tr>\n",
       "      <th>Telangana</th>\n",
       "      <td>3978</td>\n",
       "      <td>3978</td>\n",
       "      <td>3947</td>\n",
       "      <td>3945</td>\n",
       "      <td>3976</td>\n",
       "      <td>0</td>\n",
       "      <td>354</td>\n",
       "      <td>3978</td>\n",
       "    </tr>\n",
       "    <tr>\n",
       "      <th>Tripura</th>\n",
       "      <td>0</td>\n",
       "      <td>0</td>\n",
       "      <td>0</td>\n",
       "      <td>0</td>\n",
       "      <td>0</td>\n",
       "      <td>0</td>\n",
       "      <td>0</td>\n",
       "      <td>0</td>\n",
       "    </tr>\n",
       "    <tr>\n",
       "      <th>Uttar Pradesh</th>\n",
       "      <td>42816</td>\n",
       "      <td>42169</td>\n",
       "      <td>40289</td>\n",
       "      <td>41346</td>\n",
       "      <td>38507</td>\n",
       "      <td>22042</td>\n",
       "      <td>0</td>\n",
       "      <td>42816</td>\n",
       "    </tr>\n",
       "    <tr>\n",
       "      <th>Uttarakhand</th>\n",
       "      <td>1961</td>\n",
       "      <td>1961</td>\n",
       "      <td>1121</td>\n",
       "      <td>1120</td>\n",
       "      <td>1917</td>\n",
       "      <td>130</td>\n",
       "      <td>0</td>\n",
       "      <td>1961</td>\n",
       "    </tr>\n",
       "    <tr>\n",
       "      <th>Uttaranchal</th>\n",
       "      <td>285</td>\n",
       "      <td>285</td>\n",
       "      <td>265</td>\n",
       "      <td>265</td>\n",
       "      <td>265</td>\n",
       "      <td>280</td>\n",
       "      <td>0</td>\n",
       "      <td>285</td>\n",
       "    </tr>\n",
       "    <tr>\n",
       "      <th>West Bengal</th>\n",
       "      <td>22463</td>\n",
       "      <td>22463</td>\n",
       "      <td>21314</td>\n",
       "      <td>22312</td>\n",
       "      <td>21295</td>\n",
       "      <td>13006</td>\n",
       "      <td>640</td>\n",
       "      <td>22463</td>\n",
       "    </tr>\n",
       "    <tr>\n",
       "      <th>andaman-and-nicobar-islands</th>\n",
       "      <td>0</td>\n",
       "      <td>0</td>\n",
       "      <td>0</td>\n",
       "      <td>0</td>\n",
       "      <td>0</td>\n",
       "      <td>0</td>\n",
       "      <td>0</td>\n",
       "      <td>0</td>\n",
       "    </tr>\n",
       "  </tbody>\n",
       "</table>\n",
       "</div>"
      ],
      "text/plain": [
       "                             location   type    so2    no2   rspm    spm  \\\n",
       "state                                                                      \n",
       "Andhra Pradesh                  26368  25758  25681  25817  25228  11789   \n",
       "Arunachal Pradesh                  90     90     67     66     89      0   \n",
       "Assam                           19361  19116  19228  19282  19083   5895   \n",
       "Bihar                            2275   2136   2127   2190   1333   1780   \n",
       "Chandigarh                       8520   8520   4419   7586   8142   4951   \n",
       "Chhattisgarh                     7831   7831   7329   7495   6764   3942   \n",
       "Dadra & Nagar Haveli              634    603    629    629    438    422   \n",
       "Daman & Diu                       782    782    781    782    439    565   \n",
       "Delhi                            8551   8551   7810   8007   6667   5459   \n",
       "Goa                              6206   6037   5141   5760   5875   3282   \n",
       "Gujarat                         21279  20845  21188  21234  19072  13907   \n",
       "Haryana                          3420   3420   3139   3013   2923   1790   \n",
       "Himachal Pradesh                22896  22896  16593  20654  18625   8535   \n",
       "Jammu & Kashmir                  1289   1289   1268   1267   1257     95   \n",
       "Jharkhand                        5968   5968   5850   5835   5877   2668   \n",
       "Karnataka                       17119  17119  16152  16686  16256   7459   \n",
       "Kerala                          24728  24027  22394  23359  22682  10555   \n",
       "Lakshadweep                         0      0      0      0      0      0   \n",
       "Madhya Pradesh                  19920  19586  17237  18047  16874  12017   \n",
       "Maharashtra                     60384  60090  58322  59167  55439  22345   \n",
       "Manipur                            76     76     25     76     76     76   \n",
       "Meghalaya                        3853   3717   3343   3552   3711    818   \n",
       "Mizoram                          5338   5338   4355   4822   5328   1362   \n",
       "Nagaland                         2463   2463   1592   2241   2462   1249   \n",
       "Odisha                          19279  18676  16074  19007  18333  10908   \n",
       "Puducherry                       3785   3785   3593   3565   3032   2042   \n",
       "Punjab                          25634  25386  24603  25171  21808   3688   \n",
       "Rajasthan                       25589  25144  25313  25229  22954  15767   \n",
       "Sikkim                              1      1      1      1      1      1   \n",
       "Tamil Nadu                      20597  20243  19906  19981  18792   9530   \n",
       "Telangana                        3978   3978   3947   3945   3976      0   \n",
       "Tripura                             0      0      0      0      0      0   \n",
       "Uttar Pradesh                   42816  42169  40289  41346  38507  22042   \n",
       "Uttarakhand                      1961   1961   1121   1120   1917    130   \n",
       "Uttaranchal                       285    285    265    265    265    280   \n",
       "West Bengal                     22463  22463  21314  22312  21295  13006   \n",
       "andaman-and-nicobar-islands         0      0      0      0      0      0   \n",
       "\n",
       "                             pm2_5   date  \n",
       "state                                      \n",
       "Andhra Pradesh                   0  26368  \n",
       "Arunachal Pradesh                0     90  \n",
       "Assam                            0  19361  \n",
       "Bihar                            0   2275  \n",
       "Chandigarh                       0   8520  \n",
       "Chhattisgarh                     0   7831  \n",
       "Dadra & Nagar Haveli            43    634  \n",
       "Daman & Diu                     44    782  \n",
       "Delhi                          371   8551  \n",
       "Goa                           1390   6206  \n",
       "Gujarat                       2401  21279  \n",
       "Haryana                          0   3420  \n",
       "Himachal Pradesh                 0  22896  \n",
       "Jammu & Kashmir                  0   1289  \n",
       "Jharkhand                        0   5968  \n",
       "Karnataka                        0  17118  \n",
       "Kerala                           0  24728  \n",
       "Lakshadweep                      0      0  \n",
       "Madhya Pradesh                 829  19920  \n",
       "Maharashtra                      0  60382  \n",
       "Manipur                          0     76  \n",
       "Meghalaya                        0   3853  \n",
       "Mizoram                          0   5338  \n",
       "Nagaland                         0   2463  \n",
       "Odisha                        2788  19278  \n",
       "Puducherry                       0   3785  \n",
       "Punjab                           0  25634  \n",
       "Rajasthan                        0  25589  \n",
       "Sikkim                           0      1  \n",
       "Tamil Nadu                     454  20597  \n",
       "Telangana                      354   3978  \n",
       "Tripura                          0      0  \n",
       "Uttar Pradesh                    0  42816  \n",
       "Uttarakhand                      0   1961  \n",
       "Uttaranchal                      0    285  \n",
       "West Bengal                    640  22463  \n",
       "andaman-and-nicobar-islands      0      0  "
      ]
     },
     "execution_count": 10,
     "metadata": {},
     "output_type": "execute_result"
    }
   ],
   "source": [
    "df.groupby('state').count()"
   ]
  },
  {
   "cell_type": "markdown",
   "metadata": {},
   "source": [
    "There are thus states where we do not have any data at all like **lakshadweep** and **andaman-and-nicobar-islands**,and we have several places were there is no record for a certian features like **pm2.5** in several states etc.\n",
    "\n",
    "To tackle these data we have 2 options:-\n",
    "-  to assign all missing values with 0\n",
    "-  to assign all missing values with either mean, median or mode\n",
    "\n",
    "Here we are going to use the 2nd approach as we have no idea about the missing values, using the 2nd approach would make the missing values float beween the lowest and highest values and they would not interupt in between our analysis over the original data.\n",
    "\n",
    "Another problem which we need to tackle is the multiple naming of same states like Uttaranchal and Uttarakhand.\n"
   ]
  },
  {
   "cell_type": "code",
   "execution_count": 11,
   "metadata": {},
   "outputs": [
    {
     "data": {
      "text/plain": [
       "array(['Residential, Rural and other Areas', 'Industrial Area', nan,\n",
       "       'Sensitive Area', 'Industrial Areas', 'Residential and others',\n",
       "       'Sensitive Areas', 'Industrial', 'Residential', 'RIRUO',\n",
       "       'Sensitive'], dtype=object)"
      ]
     },
     "execution_count": 11,
     "metadata": {},
     "output_type": "execute_result"
    }
   ],
   "source": [
    "df.type.unique()"
   ]
  },
  {
   "cell_type": "code",
   "execution_count": 12,
   "metadata": {},
   "outputs": [
    {
     "data": {
      "text/html": [
       "<div>\n",
       "<style scoped>\n",
       "    .dataframe tbody tr th:only-of-type {\n",
       "        vertical-align: middle;\n",
       "    }\n",
       "\n",
       "    .dataframe tbody tr th {\n",
       "        vertical-align: top;\n",
       "    }\n",
       "\n",
       "    .dataframe thead th {\n",
       "        text-align: right;\n",
       "    }\n",
       "</style>\n",
       "<table border=\"1\" class=\"dataframe\">\n",
       "  <thead>\n",
       "    <tr style=\"text-align: right;\">\n",
       "      <th></th>\n",
       "      <th>state</th>\n",
       "      <th>location</th>\n",
       "      <th>so2</th>\n",
       "      <th>no2</th>\n",
       "      <th>rspm</th>\n",
       "      <th>spm</th>\n",
       "      <th>pm2_5</th>\n",
       "      <th>date</th>\n",
       "    </tr>\n",
       "    <tr>\n",
       "      <th>type</th>\n",
       "      <th></th>\n",
       "      <th></th>\n",
       "      <th></th>\n",
       "      <th></th>\n",
       "      <th></th>\n",
       "      <th></th>\n",
       "      <th></th>\n",
       "      <th></th>\n",
       "    </tr>\n",
       "  </thead>\n",
       "  <tbody>\n",
       "    <tr>\n",
       "      <th>Industrial</th>\n",
       "      <td>233</td>\n",
       "      <td>233</td>\n",
       "      <td>183</td>\n",
       "      <td>193</td>\n",
       "      <td>0</td>\n",
       "      <td>226</td>\n",
       "      <td>0</td>\n",
       "      <td>233</td>\n",
       "    </tr>\n",
       "    <tr>\n",
       "      <th>Industrial Area</th>\n",
       "      <td>96091</td>\n",
       "      <td>96091</td>\n",
       "      <td>92414</td>\n",
       "      <td>93722</td>\n",
       "      <td>84486</td>\n",
       "      <td>25501</td>\n",
       "      <td>2619</td>\n",
       "      <td>96089</td>\n",
       "    </tr>\n",
       "    <tr>\n",
       "      <th>Industrial Areas</th>\n",
       "      <td>51747</td>\n",
       "      <td>51747</td>\n",
       "      <td>44823</td>\n",
       "      <td>48603</td>\n",
       "      <td>47630</td>\n",
       "      <td>46546</td>\n",
       "      <td>0</td>\n",
       "      <td>51747</td>\n",
       "    </tr>\n",
       "    <tr>\n",
       "      <th>RIRUO</th>\n",
       "      <td>1304</td>\n",
       "      <td>1304</td>\n",
       "      <td>1304</td>\n",
       "      <td>1304</td>\n",
       "      <td>1304</td>\n",
       "      <td>0</td>\n",
       "      <td>577</td>\n",
       "      <td>1304</td>\n",
       "    </tr>\n",
       "    <tr>\n",
       "      <th>Residential</th>\n",
       "      <td>158</td>\n",
       "      <td>158</td>\n",
       "      <td>108</td>\n",
       "      <td>112</td>\n",
       "      <td>0</td>\n",
       "      <td>152</td>\n",
       "      <td>0</td>\n",
       "      <td>158</td>\n",
       "    </tr>\n",
       "    <tr>\n",
       "      <th>Residential and others</th>\n",
       "      <td>86791</td>\n",
       "      <td>86791</td>\n",
       "      <td>70882</td>\n",
       "      <td>81774</td>\n",
       "      <td>81852</td>\n",
       "      <td>79461</td>\n",
       "      <td>0</td>\n",
       "      <td>86791</td>\n",
       "    </tr>\n",
       "    <tr>\n",
       "      <th>Residential, Rural and other Areas</th>\n",
       "      <td>179014</td>\n",
       "      <td>179014</td>\n",
       "      <td>173027</td>\n",
       "      <td>174437</td>\n",
       "      <td>165892</td>\n",
       "      <td>35164</td>\n",
       "      <td>6118</td>\n",
       "      <td>179013</td>\n",
       "    </tr>\n",
       "    <tr>\n",
       "      <th>Sensitive</th>\n",
       "      <td>495</td>\n",
       "      <td>495</td>\n",
       "      <td>456</td>\n",
       "      <td>470</td>\n",
       "      <td>0</td>\n",
       "      <td>440</td>\n",
       "      <td>0</td>\n",
       "      <td>495</td>\n",
       "    </tr>\n",
       "    <tr>\n",
       "      <th>Sensitive Area</th>\n",
       "      <td>8980</td>\n",
       "      <td>8980</td>\n",
       "      <td>8856</td>\n",
       "      <td>8860</td>\n",
       "      <td>8781</td>\n",
       "      <td>759</td>\n",
       "      <td>0</td>\n",
       "      <td>8979</td>\n",
       "    </tr>\n",
       "    <tr>\n",
       "      <th>Sensitive Areas</th>\n",
       "      <td>5536</td>\n",
       "      <td>5536</td>\n",
       "      <td>4108</td>\n",
       "      <td>5026</td>\n",
       "      <td>5374</td>\n",
       "      <td>5352</td>\n",
       "      <td>0</td>\n",
       "      <td>5536</td>\n",
       "    </tr>\n",
       "  </tbody>\n",
       "</table>\n",
       "</div>"
      ],
      "text/plain": [
       "                                     state  location     so2     no2    rspm  \\\n",
       "type                                                                           \n",
       "Industrial                             233       233     183     193       0   \n",
       "Industrial Area                      96091     96091   92414   93722   84486   \n",
       "Industrial Areas                     51747     51747   44823   48603   47630   \n",
       "RIRUO                                 1304      1304    1304    1304    1304   \n",
       "Residential                            158       158     108     112       0   \n",
       "Residential and others               86791     86791   70882   81774   81852   \n",
       "Residential, Rural and other Areas  179014    179014  173027  174437  165892   \n",
       "Sensitive                              495       495     456     470       0   \n",
       "Sensitive Area                        8980      8980    8856    8860    8781   \n",
       "Sensitive Areas                       5536      5536    4108    5026    5374   \n",
       "\n",
       "                                      spm  pm2_5    date  \n",
       "type                                                      \n",
       "Industrial                            226      0     233  \n",
       "Industrial Area                     25501   2619   96089  \n",
       "Industrial Areas                    46546      0   51747  \n",
       "RIRUO                                   0    577    1304  \n",
       "Residential                           152      0     158  \n",
       "Residential and others              79461      0   86791  \n",
       "Residential, Rural and other Areas  35164   6118  179013  \n",
       "Sensitive                             440      0     495  \n",
       "Sensitive Area                        759      0    8979  \n",
       "Sensitive Areas                      5352      0    5536  "
      ]
     },
     "execution_count": 12,
     "metadata": {},
     "output_type": "execute_result"
    }
   ],
   "source": [
    "df.groupby('type').count()"
   ]
  },
  {
   "cell_type": "code",
   "execution_count": 13,
   "metadata": {},
   "outputs": [],
   "source": [
    "# solving issue of multiple naming of states\n",
    "df.replace({'state':{'Uttaranchal':'Uttarakhand'}}, regex=True, inplace=True)"
   ]
  },
  {
   "cell_type": "code",
   "execution_count": 14,
   "metadata": {},
   "outputs": [
    {
     "data": {
      "text/plain": [
       "array(['Andhra Pradesh', 'Arunachal Pradesh', 'Assam', 'Bihar',\n",
       "       'Chandigarh', 'Chhattisgarh', 'Dadra & Nagar Haveli',\n",
       "       'Daman & Diu', 'Delhi', 'Goa', 'Gujarat', 'Haryana',\n",
       "       'Himachal Pradesh', 'Jammu & Kashmir', 'Jharkhand', 'Karnataka',\n",
       "       'Kerala', 'Madhya Pradesh', 'Maharashtra', 'Manipur', 'Meghalaya',\n",
       "       'Mizoram', 'Nagaland', 'Odisha', 'Puducherry', 'Punjab',\n",
       "       'Rajasthan', 'Sikkim', 'Tamil Nadu', 'Telangana', 'Uttar Pradesh',\n",
       "       'Uttarakhand', 'West Bengal', 'andaman-and-nicobar-islands',\n",
       "       'Lakshadweep', 'Tripura'], dtype=object)"
      ]
     },
     "execution_count": 14,
     "metadata": {},
     "output_type": "execute_result"
    }
   ],
   "source": [
    "df['state'].unique()"
   ]
  },
  {
   "cell_type": "markdown",
   "metadata": {},
   "source": [
    "**Now let us plot a bar graph to see how much of our data belong to which type using**\n",
    "\n",
    "```python\n",
    "plt.bar(df.type.unique(),df.groupby('type').count()['state'].values)\n",
    "plt.show()\n",
    "```\n",
    "\n",
    "But our data still contains several NULL values that restrict us to visualize our data through plots.<br>\n",
    "So let us first remove all the NULL values from our data."
   ]
  },
  {
   "cell_type": "markdown",
   "metadata": {},
   "source": [
    "**Fixing all missing values for all the features with dtype as float**"
   ]
  },
  {
   "cell_type": "code",
   "execution_count": 15,
   "metadata": {},
   "outputs": [
    {
     "name": "stderr",
     "output_type": "stream",
     "text": [
      "C:\\Users\\prath\\Anaconda3\\envs\\DL\\lib\\site-packages\\sklearn\\utils\\deprecation.py:58: DeprecationWarning: Class Imputer is deprecated; Imputer was deprecated in version 0.20 and will be removed in 0.22. Import impute.SimpleImputer from sklearn instead.\n",
      "  warnings.warn(msg, category=DeprecationWarning)\n"
     ]
    },
    {
     "data": {
      "text/html": [
       "<div>\n",
       "<style scoped>\n",
       "    .dataframe tbody tr th:only-of-type {\n",
       "        vertical-align: middle;\n",
       "    }\n",
       "\n",
       "    .dataframe tbody tr th {\n",
       "        vertical-align: top;\n",
       "    }\n",
       "\n",
       "    .dataframe thead th {\n",
       "        text-align: right;\n",
       "    }\n",
       "</style>\n",
       "<table border=\"1\" class=\"dataframe\">\n",
       "  <thead>\n",
       "    <tr style=\"text-align: right;\">\n",
       "      <th></th>\n",
       "      <th>state</th>\n",
       "      <th>location</th>\n",
       "      <th>type</th>\n",
       "      <th>so2</th>\n",
       "      <th>no2</th>\n",
       "      <th>rspm</th>\n",
       "      <th>spm</th>\n",
       "      <th>pm2_5</th>\n",
       "      <th>date</th>\n",
       "    </tr>\n",
       "  </thead>\n",
       "  <tbody>\n",
       "    <tr>\n",
       "      <th>0</th>\n",
       "      <td>Andhra Pradesh</td>\n",
       "      <td>Hyderabad</td>\n",
       "      <td>Residential, Rural and other Areas</td>\n",
       "      <td>4.8</td>\n",
       "      <td>17.4</td>\n",
       "      <td>108.832784</td>\n",
       "      <td>220.78348</td>\n",
       "      <td>40.791467</td>\n",
       "      <td>1990-02-01</td>\n",
       "    </tr>\n",
       "    <tr>\n",
       "      <th>1</th>\n",
       "      <td>Andhra Pradesh</td>\n",
       "      <td>Hyderabad</td>\n",
       "      <td>Industrial Area</td>\n",
       "      <td>3.1</td>\n",
       "      <td>7.0</td>\n",
       "      <td>108.832784</td>\n",
       "      <td>220.78348</td>\n",
       "      <td>40.791467</td>\n",
       "      <td>1990-02-01</td>\n",
       "    </tr>\n",
       "    <tr>\n",
       "      <th>2</th>\n",
       "      <td>Andhra Pradesh</td>\n",
       "      <td>Hyderabad</td>\n",
       "      <td>Residential, Rural and other Areas</td>\n",
       "      <td>6.2</td>\n",
       "      <td>28.5</td>\n",
       "      <td>108.832784</td>\n",
       "      <td>220.78348</td>\n",
       "      <td>40.791467</td>\n",
       "      <td>1990-02-01</td>\n",
       "    </tr>\n",
       "    <tr>\n",
       "      <th>3</th>\n",
       "      <td>Andhra Pradesh</td>\n",
       "      <td>Hyderabad</td>\n",
       "      <td>Residential, Rural and other Areas</td>\n",
       "      <td>6.3</td>\n",
       "      <td>14.7</td>\n",
       "      <td>108.832784</td>\n",
       "      <td>220.78348</td>\n",
       "      <td>40.791467</td>\n",
       "      <td>1990-03-01</td>\n",
       "    </tr>\n",
       "    <tr>\n",
       "      <th>4</th>\n",
       "      <td>Andhra Pradesh</td>\n",
       "      <td>Hyderabad</td>\n",
       "      <td>Industrial Area</td>\n",
       "      <td>4.7</td>\n",
       "      <td>7.5</td>\n",
       "      <td>108.832784</td>\n",
       "      <td>220.78348</td>\n",
       "      <td>40.791467</td>\n",
       "      <td>1990-03-01</td>\n",
       "    </tr>\n",
       "  </tbody>\n",
       "</table>\n",
       "</div>"
      ],
      "text/plain": [
       "            state   location                                type  so2   no2  \\\n",
       "0  Andhra Pradesh  Hyderabad  Residential, Rural and other Areas  4.8  17.4   \n",
       "1  Andhra Pradesh  Hyderabad                     Industrial Area  3.1   7.0   \n",
       "2  Andhra Pradesh  Hyderabad  Residential, Rural and other Areas  6.2  28.5   \n",
       "3  Andhra Pradesh  Hyderabad  Residential, Rural and other Areas  6.3  14.7   \n",
       "4  Andhra Pradesh  Hyderabad                     Industrial Area  4.7   7.5   \n",
       "\n",
       "         rspm        spm      pm2_5        date  \n",
       "0  108.832784  220.78348  40.791467  1990-02-01  \n",
       "1  108.832784  220.78348  40.791467  1990-02-01  \n",
       "2  108.832784  220.78348  40.791467  1990-02-01  \n",
       "3  108.832784  220.78348  40.791467  1990-03-01  \n",
       "4  108.832784  220.78348  40.791467  1990-03-01  "
      ]
     },
     "execution_count": 15,
     "metadata": {},
     "output_type": "execute_result"
    }
   ],
   "source": [
    "from sklearn.preprocessing import Imputer\n",
    "imputer = Imputer(missing_values = 'NaN', strategy = 'mean', axis = 0)\n",
    "imputer = imputer.fit(df[['so2', 'no2', 'rspm', 'spm', 'pm2_5']].values)\n",
    "df[['so2', 'no2', 'rspm', 'spm', 'pm2_5']] = imputer.transform(df[['so2', 'no2', 'rspm', 'spm', 'pm2_5']].values)\n",
    "df.head()"
   ]
  },
  {
   "cell_type": "code",
   "execution_count": 16,
   "metadata": {},
   "outputs": [
    {
     "name": "stdout",
     "output_type": "stream",
     "text": [
      "<class 'pandas.core.frame.DataFrame'>\n",
      "RangeIndex: 435742 entries, 0 to 435741\n",
      "Data columns (total 9 columns):\n",
      "state       435742 non-null object\n",
      "location    435739 non-null object\n",
      "type        430349 non-null object\n",
      "so2         435742 non-null float64\n",
      "no2         435742 non-null float64\n",
      "rspm        435742 non-null float64\n",
      "spm         435742 non-null float64\n",
      "pm2_5       435742 non-null float64\n",
      "date        435735 non-null object\n",
      "dtypes: float64(5), object(4)\n",
      "memory usage: 29.9+ MB\n"
     ]
    }
   ],
   "source": [
    "df.info()"
   ]
  },
  {
   "cell_type": "markdown",
   "metadata": {},
   "source": [
    "*So now we only have one column ie. **type** with missing values*\n",
    "\n",
    "**Fixing missing values for type feature**"
   ]
  },
  {
   "cell_type": "code",
   "execution_count": 17,
   "metadata": {},
   "outputs": [],
   "source": [
    "# the most frequent occurung value for type is Residential, Rural and other Areas, \n",
    "# thus replacing all missing values under type with Residential, Rural and other Areas\n",
    "\n",
    "df['type']=df['type'].fillna('Residential, Rural and other Areas')"
   ]
  },
  {
   "cell_type": "code",
   "execution_count": 18,
   "metadata": {},
   "outputs": [
    {
     "name": "stdout",
     "output_type": "stream",
     "text": [
      "<class 'pandas.core.frame.DataFrame'>\n",
      "RangeIndex: 435742 entries, 0 to 435741\n",
      "Data columns (total 9 columns):\n",
      "state       435742 non-null object\n",
      "location    435739 non-null object\n",
      "type        435742 non-null object\n",
      "so2         435742 non-null float64\n",
      "no2         435742 non-null float64\n",
      "rspm        435742 non-null float64\n",
      "spm         435742 non-null float64\n",
      "pm2_5       435742 non-null float64\n",
      "date        435735 non-null object\n",
      "dtypes: float64(5), object(4)\n",
      "memory usage: 29.9+ MB\n"
     ]
    }
   ],
   "source": [
    "df.info()"
   ]
  },
  {
   "cell_type": "markdown",
   "metadata": {},
   "source": [
    "**So now all our missing values are replaced by certain other values and now we do not have any NULL values in our data<br>So we can now jump straight into data analysis.**"
   ]
  },
  {
   "cell_type": "markdown",
   "metadata": {},
   "source": [
    "-  Let us first look at the states with highest emmision of a particular pollutant"
   ]
  },
  {
   "cell_type": "markdown",
   "metadata": {},
   "source": [
    "<img src=\"images/no2emmision.png\" alt=\"Drawing\" style=\"width: 300px;\" align=\"right\"/>\n",
    "\n",
    "**NO2 :** Nitrogen dioxide is a nasty-smelling gas. Some nitrogen dioxide is formed naturally in the atmosphere by lightning and some is produced by plants, soil and water. However, only about 1% of the total amount of nitrogen dioxide found in our cities' air is formed this way.\n",
    "\n",
    "Nitrogen dioxide is an important air pollutant because it contributes to the formation of photochemical smog, which can have significant impacts on human health.\n",
    "\n",
    "The major source of nitrogen dioxide in is the burning of fossil fuels: coal, oil and gas.\n",
    "\n",
    "The main effect of breathing in raised levels of nitrogen dioxide is the increased likelihood of respiratory problems. Nitrogen dioxide inflames the lining of the lungs, and it can reduce immunity to lung infections. This can cause problems such as wheezing, coughing, colds, flu and bronchitis.\n",
    "\n",
    "Increased levels of nitrogen dioxide can have significant impacts on people with asthma because it can cause more frequent and more intense attacks. Children with asthma and older people with heart disease are most at risk."
   ]
  },
  {
   "cell_type": "code",
   "execution_count": 19,
   "metadata": {},
   "outputs": [
    {
     "data": {
      "image/png": "[encoded data removed]",
      "text/plain": [
       "<Figure size 1080x360 with 2 Axes>"
      ]
     },
     "metadata": {
      "needs_background": "light"
     },
     "output_type": "display_data"
    }
   ],
   "source": [
    "fig, axarr = plt.subplots(1, 2, squeeze=False, figsize=(15,5))\n",
    "\n",
    "df[['state','no2']].groupby('state').mean().sort_values(by='no2',ascending=False).head().plot(kind='bar',\n",
    "                                                                                              ax=axarr[0][0],\n",
    "                                                                                              color='red',\n",
    "                                                                                              title='states with highest no2 emmision',\n",
    "                                                                                              yticks=range(0,61,10),\n",
    "                                                                                              legend=False)\n",
    "\n",
    "df[['state','no2']].groupby('state').mean().sort_values(by='no2',ascending=False).tail().plot(kind='bar',\n",
    "                                                                                              ax=axarr[0][1],\n",
    "                                                                                              color='green',\n",
    "                                                                                              title='states with lowest no2 emmision',\n",
    "                                                                                              yticks=range(0,61,10),\n",
    "                                                                                              legend=False)\n",
    "plt.show()"
   ]
  },
  {
   "cell_type": "markdown",
   "metadata": {},
   "source": [
    "##### From the plots we can conclude that: "
   ]
  },
  {
   "cell_type": "markdown",
   "metadata": {},
   "source": [
    "<img src=\"images/so2emmision.jpg\" alt=\"Drawing\" style=\"width: 300px;\" align=\"right\"/>\n",
    "\n",
    "**SO2 :** Sulfur dioxide is a gas. It is invisible and has a nasty, sharp smell. It reacts easily with other substances to form harmful compounds, such as sulfuric acid, sulfurous acid and sulfate particles.\n",
    "\n",
    "About 99% of the sulfur dioxide in air comes from human sources. The main source of sulfur dioxide in the air is industrial activity that processes materials that contain sulfur, eg the generation of electricity from coal, oil or gas that contains sulfur. \n",
    "\n",
    "Sulfur dioxide affects human health when it is breathed in. It irritates the nose, throat, and airways to cause coughing, wheezing, shortness of breath, or a tight feeling around the chest. The effects of sulfur dioxide are felt very quickly and most people would feel the worst symptoms in 10 or 15 minutes after breathing it in.\n",
    "\n",
    "Those most at risk of developing problems if they are exposed to sulfur dioxide are people with asthma or similar conditions."
   ]
  },
  {
   "cell_type": "code",
   "execution_count": 20,
   "metadata": {},
   "outputs": [
    {
     "data": {
      "image/png": "[encoded data removed]",
      "text/plain": [
       "<Figure size 1080x360 with 2 Axes>"
      ]
     },
     "metadata": {
      "needs_background": "light"
     },
     "output_type": "display_data"
    }
   ],
   "source": [
    "fig, axarr = plt.subplots(1, 2, squeeze=False, figsize=(15,5))\n",
    "\n",
    "df[['state','so2']].groupby('state').mean().sort_values(by='so2',ascending=False).head().plot(kind='bar',\n",
    "                                                                                              ax=axarr[0][0],\n",
    "                                                                                              color='red',\n",
    "                                                                                              title='states with highest so2 emmision',\n",
    "                                                                                              yticks=range(0,25,4),\n",
    "                                                                                              legend=False)\n",
    "\n",
    "df[['state','so2']].groupby('state').mean().sort_values(by='so2',ascending=False).tail().plot(kind='bar',\n",
    "                                                                                              ax=axarr[0][1],\n",
    "                                                                                              color='green',\n",
    "                                                                                              title='states with lowest so2 emmision',\n",
    "                                                                                              yticks=range(0,25,4),\n",
    "                                                                                              legend=False)\n",
    "plt.show()"
   ]
  },
  {
   "cell_type": "markdown",
   "metadata": {},
   "source": [
    "##### From the plots we can conclude that : "
   ]
  },
  {
   "cell_type": "markdown",
   "metadata": {},
   "source": [
    "**RSPM(Respirable Suspended Particulate Matter) :**\n",
    "RSPM is that fraction of TSPM which is readily inhaled by humans through their respiratory system and in general, considered as particulate matter with their diameter (aerodynamic) less than 2.5 micrometers. Larger particles would be filtered in the nasal duct.\n",
    "\n",
    "\n",
    "(TSPM: Stands for Total Suspended Particulate Matter and would essentially be the concentration one would get when a high-volume bulk sampling is done on a filter substrate.)"
   ]
  },
  {
   "cell_type": "code",
   "execution_count": 21,
   "metadata": {},
   "outputs": [
    {
     "data": {
      "image/png": "[encoded data removed]",
      "text/plain": [
       "<Figure size 1080x360 with 2 Axes>"
      ]
     },
     "metadata": {
      "needs_background": "light"
     },
     "output_type": "display_data"
    }
   ],
   "source": [
    "fig, axarr = plt.subplots(1, 2, squeeze=False, figsize=(15,5))\n",
    "\n",
    "df[['state','rspm']].groupby('state').mean().sort_values(by='rspm',ascending=False).head().plot(kind='bar',\n",
    "                                                                                              ax=axarr[0][0],\n",
    "                                                                                              color='red',\n",
    "                                                                                              title='states with highest rspm emmision',\n",
    "                                                                                              yticks=range(0,250,50),\n",
    "                                                                                              legend=False)\n",
    "\n",
    "df[['state','rspm']].groupby('state').mean().sort_values(by='rspm',ascending=False).tail().plot(kind='bar',\n",
    "                                                                                              ax=axarr[0][1],\n",
    "                                                                                              color='green',\n",
    "                                                                                              title='states with lowest rspm emmision',\n",
    "                                                                                              yticks=range(0,250,50),\n",
    "                                                                                              legend=False)\n",
    "plt.show()"
   ]
  },
  {
   "cell_type": "markdown",
   "metadata": {},
   "source": [
    "##### From the plots we can conclude that the "
   ]
  },
  {
   "cell_type": "markdown",
   "metadata": {},
   "source": [
    "<img src=\"images/spmemmision.png\" alt=\"Drawing\" style=\"width: 300px;\" align=\"right\"/>\n",
    "\n",
    "\n",
    "**SPM :** Suspended particulate matter – also known as particulate matter (PM) or particulates – are microscopic solid or liquid matter suspended in the Earth's atmosphere. Particulate matter is the sum of all solid and liquid particles suspended in air many of which are hazardous.\n",
    "\n",
    "This complex mixture includes both organic and inorganic particles, such as dust, pollen, soot, smoke, and liquid droplets. \n",
    "\n",
    "These particles vary greatly in size, composition, and origin. It consists of microscopically small solid particles or liquid droplets suspended in the air. The smaller the particles, the deeper they can penetrate into the respiratory system and the more hazardous they are to breathe. Particulate matter is primarily a problem in the wintertime in the Bay Area, when seasonal wood-burning makes a substantial contribution.\n",
    "\n",
    "(TSP:total suspended particulates) "
   ]
  },
  {
   "cell_type": "code",
   "execution_count": 22,
   "metadata": {},
   "outputs": [
    {
     "data": {
      "image/png": "[encoded data removed]",
      "text/plain": [
       "<Figure size 1080x360 with 2 Axes>"
      ]
     },
     "metadata": {
      "needs_background": "light"
     },
     "output_type": "display_data"
    }
   ],
   "source": [
    "fig, axarr = plt.subplots(1, 2, squeeze=False, figsize=(15,5))\n",
    "\n",
    "df[['state','spm']].groupby('state').mean().sort_values(by='spm',ascending=False).head().plot(kind='bar',\n",
    "                                                                                              ax=axarr[0][0],\n",
    "                                                                                              color='red',\n",
    "                                                                                              title='states with highest spm emmision',\n",
    "                                                                                              yticks=range(0,400,50),\n",
    "                                                                                              legend=False)\n",
    "\n",
    "df[['state','spm']].groupby('state').mean().sort_values(by='spm',ascending=False).tail().plot(kind='bar',\n",
    "                                                                                              ax=axarr[0][1],\n",
    "                                                                                              color='green',\n",
    "                                                                                              title='states with lowest spm emmision',\n",
    "                                                                                              yticks=range(0,400,50),\n",
    "                                                                                              legend=False)\n",
    "plt.show()"
   ]
  },
  {
   "cell_type": "markdown",
   "metadata": {},
   "source": [
    "##### From the plots we can conclude that  :"
   ]
  },
  {
   "cell_type": "markdown",
   "metadata": {},
   "source": [
    "**PM 2.5 :** Fine particulate matter (PM2.5) is an air pollutant that is a concern for people's health when levels in air are high. PM2.5 are tiny particles in the air that reduce visibility and cause the air to appear hazy when levels are elevated. Outdoor PM2.5 levels are most likely to be elevated on days with little or no wind or air mixing\n",
    "\n",
    "<img src=\"images/pm2.5emmision.png\" alt=\"Drawing\" style=\"width: 300px;\" align=\"right\"/>\n",
    "\n",
    "The term fine particles, or particulate matter 2.5 (PM2.5), refers to tiny particles or droplets in the air that are two and one half microns or less in width. Like inches, meters and miles, a micron is a unit of measurement for distance. There are about 25,000 microns in an inch. The widths of the larger particles in the PM2.5 size range would be about thirty times smaller than that of a human hair. The smaller particles are so small that several thousand of them could fit on the period at the end of this sentence.\n",
    "\n",
    "Particles in the PM2.5 size range are able to travel deeply into the respiratory tract, reaching the lungs. Exposure to fine particles can cause short-term health effects such as eye, nose, throat and lung irritation, coughing, sneezing, runny nose and shortness of breath. Exposure to fine particles can also affect lung function and worsen medical conditions such as asthma and heart disease. \n",
    "\n",
    "There are outdoor and indoor sources of fine particles. Outside, fine particles primarily come from car, truck, bus and off-road vehicle (e.g., construction equipment, snowmobile, locomotive) exhausts, other operations that involve the burning of fuels such as wood, heating oil or coal and natural sources such as forest and grass fires. Fine particles also form from the reaction of gases or droplets in the atmosphere from sources such as power plants. These chemical reactions can occur miles from the original source of the emissions."
   ]
  },
  {
   "cell_type": "code",
   "execution_count": 23,
   "metadata": {},
   "outputs": [
    {
     "data": {
      "image/png": "[encoded data removed]",
      "text/plain": [
       "<Figure size 1080x360 with 2 Axes>"
      ]
     },
     "metadata": {
      "needs_background": "light"
     },
     "output_type": "display_data"
    }
   ],
   "source": [
    "fig, axarr = plt.subplots(1, 2, squeeze=False, figsize=(15,5))\n",
    "\n",
    "df[['state','pm2_5']].groupby('state').mean().sort_values(by='pm2_5',ascending=False).head().plot(kind='bar',\n",
    "                                                                                              ax=axarr[0][0],\n",
    "                                                                                              color='red',\n",
    "                                                                                              title='states with highest pm2_5 emmision',\n",
    "                                                                                              yticks=range(0,50,5),\n",
    "                                                                                              legend=False)\n",
    "\n",
    "df[['state','pm2_5']].groupby('state').mean().sort_values(by='pm2_5',ascending=False).tail().plot(kind='bar',\n",
    "                                                                                              ax=axarr[0][1],\n",
    "                                                                                              color='green',\n",
    "                                                                                              title='states with lowest pm2_5 emmision',\n",
    "                                                                                              yticks=range(0,50,5),\n",
    "                                                                                              legend=False)\n",
    "plt.show()"
   ]
  },
  {
   "cell_type": "markdown",
   "metadata": {},
   "source": [
    "##### From the plots we can conclude that the "
   ]
  },
  {
   "cell_type": "markdown",
   "metadata": {},
   "source": [
    "**Let us now look at the pairwise relation amongst the pollutants in the atmosphere.**"
   ]
  },
  {
   "cell_type": "code",
   "execution_count": 24,
   "metadata": {},
   "outputs": [
    {
     "data": {
      "text/plain": [
       "<seaborn.axisgrid.PairGrid at 0x21a32ef79e8>"
      ]
     },
     "execution_count": 24,
     "metadata": {},
     "output_type": "execute_result"
    },
    {
     "data": {
      "image/png": "[encoded data removed]",
      "text/plain": [
       "<Figure size 900x900 with 30 Axes>"
      ]
     },
     "metadata": {
      "needs_background": "light"
     },
     "output_type": "display_data"
    }
   ],
   "source": [
    "sns.pairplot(df[['so2','no2','rspm','spm','pm2_5']])"
   ]
  },
  {
   "cell_type": "code",
   "execution_count": 49,
   "metadata": {},
   "outputs": [
    {
     "data": {
      "text/plain": [
       "<matplotlib.axes._subplots.AxesSubplot at 0x21a4a1e0240>"
      ]
     },
     "execution_count": 49,
     "metadata": {},
     "output_type": "execute_result"
    },
    {
     "data": {
      "image/png": "[encoded data removed]",
      "text/plain": [
       "<Figure size 432x288 with 2 Axes>"
      ]
     },
     "metadata": {
      "needs_background": "light"
     },
     "output_type": "display_data"
    }
   ],
   "source": [
    "sns.heatmap(df.loc[:, ['state','so2', 'no2', 'rspm', 'spm', 'pm2_5']].corr(), annot=True)"
   ]
  },
  {
   "cell_type": "markdown",
   "metadata": {},
   "source": [
    "**from this we can infere that :**<br>\n",
    "-  **SO2 conc.**<br>\n",
    "\n",
    "```\n",
    "-  is higher in areas with higher NO2 concentrations.\n",
    "-  RSPM & SPM have also have some effects on the increase concentration levels of SO2\n",
    "-  SO2 conc. show no change with increased conc. of pm2.5\n",
    "```\n",
    "-  **NO2 conc.**<br>\n",
    "\n",
    "```\n",
    "-  conc. of NO2 increases with increase in the amt. of SO2 in atmosphere\n",
    "-  conc. of NO2 is higher when conc. of RSPM/SPM is low.\n",
    "```\n",
    "\n",
    "-  **SPM conc.**<br>\n",
    "\n",
    "```\n",
    "-  SPM shows decreasing concentrations with increasing conc of NO2 or SO2\n",
    "```\n",
    "-  **pm2.5 conc.**<br>\n",
    "\n",
    "```\n",
    "-  Shows somewhat independent nature.\n",
    "```"
   ]
  },
  {
   "cell_type": "markdown",
   "metadata": {},
   "source": [
    "*in the above plots we have difficulty in analysing the pairwise relationship of RSPM with other pollutants due to outliers<br>\n",
    "But since the variation of other pollutants is same with spm and rspm we can assume that they both show similar characteristics.*"
   ]
  },
  {
   "cell_type": "markdown",
   "metadata": {},
   "source": [
    "questions to ask:<br>\n",
    "```\n",
    "do industries which cause emmision of SO2 are also responsible for the decreased quality of air due to pollution from NO2 or vice versa?\n",
    "```"
   ]
  },
  {
   "cell_type": "markdown",
   "metadata": {},
   "source": [
    "**Let us now look at the changes in the emmision of pollutants in the atmosphere over time**\n",
    "\n",
    "for this our first task is to obtain the year from the date feature and group the data according to year before plotting."
   ]
  },
  {
   "cell_type": "code",
   "execution_count": 64,
   "metadata": {},
   "outputs": [
    {
     "data": {
      "text/html": [
       "<div>\n",
       "<style scoped>\n",
       "    .dataframe tbody tr th:only-of-type {\n",
       "        vertical-align: middle;\n",
       "    }\n",
       "\n",
       "    .dataframe tbody tr th {\n",
       "        vertical-align: top;\n",
       "    }\n",
       "\n",
       "    .dataframe thead th {\n",
       "        text-align: right;\n",
       "    }\n",
       "</style>\n",
       "<table border=\"1\" class=\"dataframe\">\n",
       "  <thead>\n",
       "    <tr style=\"text-align: right;\">\n",
       "      <th></th>\n",
       "      <th>state</th>\n",
       "      <th>location</th>\n",
       "      <th>type</th>\n",
       "      <th>so2</th>\n",
       "      <th>no2</th>\n",
       "      <th>rspm</th>\n",
       "      <th>spm</th>\n",
       "      <th>pm2_5</th>\n",
       "      <th>date</th>\n",
       "      <th>year</th>\n",
       "    </tr>\n",
       "  </thead>\n",
       "  <tbody>\n",
       "    <tr>\n",
       "      <th>0</th>\n",
       "      <td>Andhra Pradesh</td>\n",
       "      <td>Hyderabad</td>\n",
       "      <td>Residential, Rural and other Areas</td>\n",
       "      <td>4.8</td>\n",
       "      <td>17.4</td>\n",
       "      <td>108.832784</td>\n",
       "      <td>220.78348</td>\n",
       "      <td>40.791467</td>\n",
       "      <td>1990-02-01</td>\n",
       "      <td>1990.0</td>\n",
       "    </tr>\n",
       "    <tr>\n",
       "      <th>1</th>\n",
       "      <td>Andhra Pradesh</td>\n",
       "      <td>Hyderabad</td>\n",
       "      <td>Industrial Area</td>\n",
       "      <td>3.1</td>\n",
       "      <td>7.0</td>\n",
       "      <td>108.832784</td>\n",
       "      <td>220.78348</td>\n",
       "      <td>40.791467</td>\n",
       "      <td>1990-02-01</td>\n",
       "      <td>1990.0</td>\n",
       "    </tr>\n",
       "    <tr>\n",
       "      <th>2</th>\n",
       "      <td>Andhra Pradesh</td>\n",
       "      <td>Hyderabad</td>\n",
       "      <td>Residential, Rural and other Areas</td>\n",
       "      <td>6.2</td>\n",
       "      <td>28.5</td>\n",
       "      <td>108.832784</td>\n",
       "      <td>220.78348</td>\n",
       "      <td>40.791467</td>\n",
       "      <td>1990-02-01</td>\n",
       "      <td>1990.0</td>\n",
       "    </tr>\n",
       "    <tr>\n",
       "      <th>3</th>\n",
       "      <td>Andhra Pradesh</td>\n",
       "      <td>Hyderabad</td>\n",
       "      <td>Residential, Rural and other Areas</td>\n",
       "      <td>6.3</td>\n",
       "      <td>14.7</td>\n",
       "      <td>108.832784</td>\n",
       "      <td>220.78348</td>\n",
       "      <td>40.791467</td>\n",
       "      <td>1990-03-01</td>\n",
       "      <td>1990.0</td>\n",
       "    </tr>\n",
       "    <tr>\n",
       "      <th>4</th>\n",
       "      <td>Andhra Pradesh</td>\n",
       "      <td>Hyderabad</td>\n",
       "      <td>Industrial Area</td>\n",
       "      <td>4.7</td>\n",
       "      <td>7.5</td>\n",
       "      <td>108.832784</td>\n",
       "      <td>220.78348</td>\n",
       "      <td>40.791467</td>\n",
       "      <td>1990-03-01</td>\n",
       "      <td>1990.0</td>\n",
       "    </tr>\n",
       "  </tbody>\n",
       "</table>\n",
       "</div>"
      ],
      "text/plain": [
       "            state   location                                type  so2   no2  \\\n",
       "0  Andhra Pradesh  Hyderabad  Residential, Rural and other Areas  4.8  17.4   \n",
       "1  Andhra Pradesh  Hyderabad                     Industrial Area  3.1   7.0   \n",
       "2  Andhra Pradesh  Hyderabad  Residential, Rural and other Areas  6.2  28.5   \n",
       "3  Andhra Pradesh  Hyderabad  Residential, Rural and other Areas  6.3  14.7   \n",
       "4  Andhra Pradesh  Hyderabad                     Industrial Area  4.7   7.5   \n",
       "\n",
       "         rspm        spm      pm2_5        date    year  \n",
       "0  108.832784  220.78348  40.791467  1990-02-01  1990.0  \n",
       "1  108.832784  220.78348  40.791467  1990-02-01  1990.0  \n",
       "2  108.832784  220.78348  40.791467  1990-02-01  1990.0  \n",
       "3  108.832784  220.78348  40.791467  1990-03-01  1990.0  \n",
       "4  108.832784  220.78348  40.791467  1990-03-01  1990.0  "
      ]
     },
     "execution_count": 64,
     "metadata": {},
     "output_type": "execute_result"
    }
   ],
   "source": [
    "#adding a new year column\n",
    "df['year'] = pd.to_datetime(df['date'],format='%Y-%m-%d').dt.year\n",
    "df.head()"
   ]
  },
  {
   "cell_type": "markdown",
   "metadata": {},
   "source": [
    "from df.info() we know that there are 7 missing values for date which we need to fill"
   ]
  },
  {
   "cell_type": "code",
   "execution_count": 26,
   "metadata": {},
   "outputs": [
    {
     "name": "stderr",
     "output_type": "stream",
     "text": [
      "C:\\Users\\prath\\Anaconda3\\envs\\DL\\lib\\site-packages\\sklearn\\utils\\deprecation.py:58: DeprecationWarning: Class Imputer is deprecated; Imputer was deprecated in version 0.20 and will be removed in 0.22. Import impute.SimpleImputer from sklearn instead.\n",
      "  warnings.warn(msg, category=DeprecationWarning)\n"
     ]
    },
    {
     "name": "stdout",
     "output_type": "stream",
     "text": [
      "<class 'pandas.core.frame.DataFrame'>\n",
      "RangeIndex: 435742 entries, 0 to 435741\n",
      "Data columns (total 10 columns):\n",
      "state       435742 non-null object\n",
      "location    435739 non-null object\n",
      "type        435742 non-null object\n",
      "so2         435742 non-null float64\n",
      "no2         435742 non-null float64\n",
      "rspm        435742 non-null float64\n",
      "spm         435742 non-null float64\n",
      "pm2_5       435742 non-null float64\n",
      "date        435735 non-null object\n",
      "year        435742 non-null float64\n",
      "dtypes: float64(6), object(4)\n",
      "memory usage: 33.2+ MB\n"
     ]
    }
   ],
   "source": [
    "imputer = Imputer(missing_values = 'NaN', strategy = 'mean', axis = 0)\n",
    "imputer = imputer.fit(df[['year']].values)\n",
    "df[['year']] = imputer.transform(df[['year']].values)\n",
    "df.info()"
   ]
  },
  {
   "cell_type": "code",
   "execution_count": 65,
   "metadata": {},
   "outputs": [
    {
     "data": {
      "text/html": [
       "<div>\n",
       "<style scoped>\n",
       "    .dataframe tbody tr th:only-of-type {\n",
       "        vertical-align: middle;\n",
       "    }\n",
       "\n",
       "    .dataframe tbody tr th {\n",
       "        vertical-align: top;\n",
       "    }\n",
       "\n",
       "    .dataframe thead th {\n",
       "        text-align: right;\n",
       "    }\n",
       "</style>\n",
       "<table border=\"1\" class=\"dataframe\">\n",
       "  <thead>\n",
       "    <tr style=\"text-align: right;\">\n",
       "      <th></th>\n",
       "      <th>year</th>\n",
       "      <th>so2</th>\n",
       "      <th>no2</th>\n",
       "      <th>rspm</th>\n",
       "      <th>spm</th>\n",
       "      <th>pm2_5</th>\n",
       "    </tr>\n",
       "  </thead>\n",
       "  <tbody>\n",
       "    <tr>\n",
       "      <th>28</th>\n",
       "      <td>2015.0</td>\n",
       "      <td>8.482814</td>\n",
       "      <td>23.627529</td>\n",
       "      <td>100.979259</td>\n",
       "      <td>220.783480</td>\n",
       "      <td>40.954952</td>\n",
       "    </tr>\n",
       "    <tr>\n",
       "      <th>27</th>\n",
       "      <td>2014.0</td>\n",
       "      <td>9.161688</td>\n",
       "      <td>24.434144</td>\n",
       "      <td>103.334382</td>\n",
       "      <td>220.783480</td>\n",
       "      <td>40.605412</td>\n",
       "    </tr>\n",
       "    <tr>\n",
       "      <th>26</th>\n",
       "      <td>2013.0</td>\n",
       "      <td>9.315736</td>\n",
       "      <td>22.306690</td>\n",
       "      <td>107.506982</td>\n",
       "      <td>209.579022</td>\n",
       "      <td>40.791467</td>\n",
       "    </tr>\n",
       "    <tr>\n",
       "      <th>25</th>\n",
       "      <td>2012.0</td>\n",
       "      <td>10.896091</td>\n",
       "      <td>24.779108</td>\n",
       "      <td>109.996489</td>\n",
       "      <td>220.783480</td>\n",
       "      <td>40.791467</td>\n",
       "    </tr>\n",
       "    <tr>\n",
       "      <th>24</th>\n",
       "      <td>2011.0</td>\n",
       "      <td>11.191143</td>\n",
       "      <td>28.155290</td>\n",
       "      <td>115.716189</td>\n",
       "      <td>211.087735</td>\n",
       "      <td>40.791467</td>\n",
       "    </tr>\n",
       "  </tbody>\n",
       "</table>\n",
       "</div>"
      ],
      "text/plain": [
       "      year        so2        no2        rspm         spm      pm2_5\n",
       "28  2015.0   8.482814  23.627529  100.979259  220.783480  40.954952\n",
       "27  2014.0   9.161688  24.434144  103.334382  220.783480  40.605412\n",
       "26  2013.0   9.315736  22.306690  107.506982  209.579022  40.791467\n",
       "25  2012.0  10.896091  24.779108  109.996489  220.783480  40.791467\n",
       "24  2011.0  11.191143  28.155290  115.716189  211.087735  40.791467"
      ]
     },
     "execution_count": 65,
     "metadata": {},
     "output_type": "execute_result"
    }
   ],
   "source": [
    "x = df[['so2', 'no2', 'rspm', 'spm', 'pm2_5','year']].groupby('year').mean().reset_index().sort_values(by='year',ascending=False)\n",
    "x.head()"
   ]
  },
  {
   "cell_type": "code",
   "execution_count": 66,
   "metadata": {},
   "outputs": [
    {
     "data": {
      "text/html": [
       "<div>\n",
       "<style scoped>\n",
       "    .dataframe tbody tr th:only-of-type {\n",
       "        vertical-align: middle;\n",
       "    }\n",
       "\n",
       "    .dataframe tbody tr th {\n",
       "        vertical-align: top;\n",
       "    }\n",
       "\n",
       "    .dataframe thead th {\n",
       "        text-align: right;\n",
       "    }\n",
       "</style>\n",
       "<table border=\"1\" class=\"dataframe\">\n",
       "  <thead>\n",
       "    <tr style=\"text-align: right;\">\n",
       "      <th></th>\n",
       "      <th>year</th>\n",
       "      <th>so2</th>\n",
       "      <th>no2</th>\n",
       "      <th>rspm</th>\n",
       "      <th>spm</th>\n",
       "      <th>pm2_5</th>\n",
       "    </tr>\n",
       "  </thead>\n",
       "  <tbody>\n",
       "    <tr>\n",
       "      <th>count</th>\n",
       "      <td>29.000000</td>\n",
       "      <td>29.000000</td>\n",
       "      <td>29.000000</td>\n",
       "      <td>29.000000</td>\n",
       "      <td>29.000000</td>\n",
       "      <td>29.000000</td>\n",
       "    </tr>\n",
       "    <tr>\n",
       "      <th>mean</th>\n",
       "      <td>2001.000000</td>\n",
       "      <td>14.996790</td>\n",
       "      <td>27.364497</td>\n",
       "      <td>108.844058</td>\n",
       "      <td>225.565893</td>\n",
       "      <td>40.790689</td>\n",
       "    </tr>\n",
       "    <tr>\n",
       "      <th>std</th>\n",
       "      <td>8.514693</td>\n",
       "      <td>4.785383</td>\n",
       "      <td>2.483402</td>\n",
       "      <td>4.225245</td>\n",
       "      <td>20.240598</td>\n",
       "      <td>0.046800</td>\n",
       "    </tr>\n",
       "    <tr>\n",
       "      <th>min</th>\n",
       "      <td>1987.000000</td>\n",
       "      <td>6.908129</td>\n",
       "      <td>21.849922</td>\n",
       "      <td>95.438979</td>\n",
       "      <td>185.195995</td>\n",
       "      <td>40.605412</td>\n",
       "    </tr>\n",
       "    <tr>\n",
       "      <th>25%</th>\n",
       "      <td>1994.000000</td>\n",
       "      <td>11.191143</td>\n",
       "      <td>25.984429</td>\n",
       "      <td>108.832784</td>\n",
       "      <td>211.087735</td>\n",
       "      <td>40.791467</td>\n",
       "    </tr>\n",
       "    <tr>\n",
       "      <th>50%</th>\n",
       "      <td>2001.000000</td>\n",
       "      <td>15.016892</td>\n",
       "      <td>27.590737</td>\n",
       "      <td>108.832784</td>\n",
       "      <td>229.176596</td>\n",
       "      <td>40.791467</td>\n",
       "    </tr>\n",
       "    <tr>\n",
       "      <th>75%</th>\n",
       "      <td>2008.000000</td>\n",
       "      <td>19.371225</td>\n",
       "      <td>28.924933</td>\n",
       "      <td>109.363718</td>\n",
       "      <td>239.365472</td>\n",
       "      <td>40.791467</td>\n",
       "    </tr>\n",
       "    <tr>\n",
       "      <th>max</th>\n",
       "      <td>2015.000000</td>\n",
       "      <td>23.784821</td>\n",
       "      <td>32.245832</td>\n",
       "      <td>119.321672</td>\n",
       "      <td>278.401290</td>\n",
       "      <td>40.954952</td>\n",
       "    </tr>\n",
       "  </tbody>\n",
       "</table>\n",
       "</div>"
      ],
      "text/plain": [
       "              year        so2        no2        rspm         spm      pm2_5\n",
       "count    29.000000  29.000000  29.000000   29.000000   29.000000  29.000000\n",
       "mean   2001.000000  14.996790  27.364497  108.844058  225.565893  40.790689\n",
       "std       8.514693   4.785383   2.483402    4.225245   20.240598   0.046800\n",
       "min    1987.000000   6.908129  21.849922   95.438979  185.195995  40.605412\n",
       "25%    1994.000000  11.191143  25.984429  108.832784  211.087735  40.791467\n",
       "50%    2001.000000  15.016892  27.590737  108.832784  229.176596  40.791467\n",
       "75%    2008.000000  19.371225  28.924933  109.363718  239.365472  40.791467\n",
       "max    2015.000000  23.784821  32.245832  119.321672  278.401290  40.954952"
      ]
     },
     "execution_count": 66,
     "metadata": {},
     "output_type": "execute_result"
    }
   ],
   "source": [
    "x.describe()"
   ]
  },
  {
   "cell_type": "code",
   "execution_count": 60,
   "metadata": {},
   "outputs": [],
   "source": [
    "x['year'] = x['year'].astype(int)"
   ]
  },
  {
   "cell_type": "code",
   "execution_count": 61,
   "metadata": {},
   "outputs": [
    {
     "data": {
      "text/plain": [
       "<matplotlib.axes._subplots.AxesSubplot at 0x21a5662e5c0>"
      ]
     },
     "execution_count": 61,
     "metadata": {},
     "output_type": "execute_result"
    },
    {
     "data": {
      "image/png": "[encoded data removed]",
      "text/plain": [
       "<Figure size 1440x720 with 5 Axes>"
      ]
     },
     "metadata": {
      "needs_background": "light"
     },
     "output_type": "display_data"
    }
   ],
   "source": [
    "fig ,axarr = plt.subplots(5,1,figsize=(20,10),squeeze=False)\n",
    "\n",
    "sns.pointplot(x='year', y='so2', data=x[['year','so2']], color='red', ax=axarr[0][0],xticks=range(1987,2015,3))\n",
    "sns.pointplot(x='year', y='no2', data=x[['year','no2']], color='grey', ax=axarr[1][0],xticks=range(1987,2015,3))\n",
    "sns.pointplot(x='year', y='rspm', data=x[['year','rspm']], color='black', ax=axarr[2][0],xticks=range(1987,2015,3))\n",
    "sns.pointplot(x='year', y='spm', data=x[['year','spm']], color='green', ax=axarr[3][0],xticks=range(1987,2015,3))\n",
    "sns.pointplot(x='year', y='pm2_5', data=x[['year','pm2_5']], color='blue', ax=axarr[4][0],xticks=range(1987,2015,3))"
   ]
  },
  {
   "cell_type": "markdown",
   "metadata": {},
   "source": [
    "**From the above we can  conclude that the conc./emission of the pollutants in the air have decreased over the period of time<br>These could be the result of the various awareness programs run by governmenet and various NGOs<br>\n",
    "But the thing to question is<br>**\n",
    "```\n",
    "Whether the level of reduction in various pollutants, that we have reached is enough?\n",
    "Do we need more awareness programs to spread awareness amongst the people about the importance of air quality in which they live?\n",
    "Do we need further restrictions over the amt. of substances that various industries emit into the air?\n",
    "```\n",
    "\n",
    "*One important thing to see is the **rise in the emission of the pollutants after 2003**, this could be the result of some changes in the policies*"
   ]
  },
  {
   "cell_type": "markdown",
   "metadata": {},
   "source": [
    "**Let us now see the sector wise emission of all pollutants**"
   ]
  },
  {
   "cell_type": "code",
   "execution_count": 69,
   "metadata": {},
   "outputs": [
    {
     "data": {
      "text/html": [
       "<div>\n",
       "<style scoped>\n",
       "    .dataframe tbody tr th:only-of-type {\n",
       "        vertical-align: middle;\n",
       "    }\n",
       "\n",
       "    .dataframe tbody tr th {\n",
       "        vertical-align: top;\n",
       "    }\n",
       "\n",
       "    .dataframe thead th {\n",
       "        text-align: right;\n",
       "    }\n",
       "</style>\n",
       "<table border=\"1\" class=\"dataframe\">\n",
       "  <thead>\n",
       "    <tr style=\"text-align: right;\">\n",
       "      <th></th>\n",
       "      <th>type</th>\n",
       "      <th>so2</th>\n",
       "      <th>no2</th>\n",
       "      <th>rspm</th>\n",
       "      <th>spm</th>\n",
       "      <th>pm2_5</th>\n",
       "    </tr>\n",
       "  </thead>\n",
       "  <tbody>\n",
       "    <tr>\n",
       "      <th>9</th>\n",
       "      <td>Sensitive Areas</td>\n",
       "      <td>8.341836</td>\n",
       "      <td>23.142252</td>\n",
       "      <td>115.343011</td>\n",
       "      <td>252.662601</td>\n",
       "      <td>40.791467</td>\n",
       "    </tr>\n",
       "    <tr>\n",
       "      <th>8</th>\n",
       "      <td>Sensitive Area</td>\n",
       "      <td>5.340401</td>\n",
       "      <td>18.163795</td>\n",
       "      <td>90.144034</td>\n",
       "      <td>211.321551</td>\n",
       "      <td>40.791467</td>\n",
       "    </tr>\n",
       "    <tr>\n",
       "      <th>7</th>\n",
       "      <td>Sensitive</td>\n",
       "      <td>10.513227</td>\n",
       "      <td>24.678870</td>\n",
       "      <td>108.832784</td>\n",
       "      <td>225.893114</td>\n",
       "      <td>40.791467</td>\n",
       "    </tr>\n",
       "    <tr>\n",
       "      <th>6</th>\n",
       "      <td>Residential, Rural and other Areas</td>\n",
       "      <td>9.469240</td>\n",
       "      <td>23.589721</td>\n",
       "      <td>102.869962</td>\n",
       "      <td>215.101017</td>\n",
       "      <td>40.753688</td>\n",
       "    </tr>\n",
       "    <tr>\n",
       "      <th>5</th>\n",
       "      <td>Residential and others</td>\n",
       "      <td>10.353020</td>\n",
       "      <td>25.413627</td>\n",
       "      <td>102.981682</td>\n",
       "      <td>214.538753</td>\n",
       "      <td>40.791467</td>\n",
       "    </tr>\n",
       "    <tr>\n",
       "      <th>4</th>\n",
       "      <td>Residential</td>\n",
       "      <td>13.835891</td>\n",
       "      <td>21.331916</td>\n",
       "      <td>108.832784</td>\n",
       "      <td>272.668993</td>\n",
       "      <td>40.791467</td>\n",
       "    </tr>\n",
       "    <tr>\n",
       "      <th>3</th>\n",
       "      <td>RIRUO</td>\n",
       "      <td>10.912577</td>\n",
       "      <td>31.779908</td>\n",
       "      <td>103.617331</td>\n",
       "      <td>220.783480</td>\n",
       "      <td>39.474997</td>\n",
       "    </tr>\n",
       "    <tr>\n",
       "      <th>2</th>\n",
       "      <td>Industrial Areas</td>\n",
       "      <td>13.372831</td>\n",
       "      <td>29.737634</td>\n",
       "      <td>121.899020</td>\n",
       "      <td>246.368405</td>\n",
       "      <td>40.791467</td>\n",
       "    </tr>\n",
       "    <tr>\n",
       "      <th>1</th>\n",
       "      <td>Industrial Area</td>\n",
       "      <td>13.121105</td>\n",
       "      <td>29.088317</td>\n",
       "      <td>119.966564</td>\n",
       "      <td>222.293673</td>\n",
       "      <td>40.881833</td>\n",
       "    </tr>\n",
       "    <tr>\n",
       "      <th>0</th>\n",
       "      <td>Industrial</td>\n",
       "      <td>23.632492</td>\n",
       "      <td>35.795214</td>\n",
       "      <td>108.832784</td>\n",
       "      <td>300.487057</td>\n",
       "      <td>40.791467</td>\n",
       "    </tr>\n",
       "  </tbody>\n",
       "</table>\n",
       "</div>"
      ],
      "text/plain": [
       "                                 type        so2        no2        rspm  \\\n",
       "9                     Sensitive Areas   8.341836  23.142252  115.343011   \n",
       "8                      Sensitive Area   5.340401  18.163795   90.144034   \n",
       "7                           Sensitive  10.513227  24.678870  108.832784   \n",
       "6  Residential, Rural and other Areas   9.469240  23.589721  102.869962   \n",
       "5              Residential and others  10.353020  25.413627  102.981682   \n",
       "4                         Residential  13.835891  21.331916  108.832784   \n",
       "3                               RIRUO  10.912577  31.779908  103.617331   \n",
       "2                    Industrial Areas  13.372831  29.737634  121.899020   \n",
       "1                     Industrial Area  13.121105  29.088317  119.966564   \n",
       "0                          Industrial  23.632492  35.795214  108.832784   \n",
       "\n",
       "          spm      pm2_5  \n",
       "9  252.662601  40.791467  \n",
       "8  211.321551  40.791467  \n",
       "7  225.893114  40.791467  \n",
       "6  215.101017  40.753688  \n",
       "5  214.538753  40.791467  \n",
       "4  272.668993  40.791467  \n",
       "3  220.783480  39.474997  \n",
       "2  246.368405  40.791467  \n",
       "1  222.293673  40.881833  \n",
       "0  300.487057  40.791467  "
      ]
     },
     "execution_count": 69,
     "metadata": {},
     "output_type": "execute_result"
    }
   ],
   "source": [
    "x = df[['so2', 'no2', 'rspm', 'spm', 'pm2_5','type']].groupby('type').mean().reset_index().sort_values(by='type',ascending=False)\n",
    "x"
   ]
  },
  {
   "cell_type": "code",
   "execution_count": 82,
   "metadata": {
    "scrolled": false
   },
   "outputs": [
    {
     "data": {
      "text/plain": [
       "<matplotlib.axes._subplots.AxesSubplot at 0x21a58204860>"
      ]
     },
     "execution_count": 82,
     "metadata": {},
     "output_type": "execute_result"
    },
    {
     "data": {
      "image/png": "[encoded data removed]",
      "text/plain": [
       "<Figure size 720x1080 with 5 Axes>"
      ]
     },
     "metadata": {
      "needs_background": "light"
     },
     "output_type": "display_data"
    }
   ],
   "source": [
    "fig, axarr = plt.subplots(5,1,figsize=(10,15), squeeze=False)\n",
    "\n",
    "sns.barplot(y='type', x='so2', data=x[['type','so2']], palette='rocket', ax=axarr[0][0])\n",
    "sns.barplot(y='type', x='no2', data=x[['type','no2']], palette='rocket', ax=axarr[1][0])\n",
    "sns.barplot(y='type', x='rspm', data=x[['type','rspm']], palette='rocket', ax=axarr[2][0])\n",
    "sns.barplot(y='type', x='spm', data=x[['type','spm']], palette='rocket', ax=axarr[3][0])\n",
    "sns.barplot(y='type', x='pm2_5', data=x[['type','pm2_5']], palette='rocket', ax=axarr[4][0])\n"
   ]
  },
  {
   "cell_type": "markdown",
   "metadata": {},
   "source": [
    "From the plots above we can see that the amt. of emission is **slightly high** in the **sensitive area** for the **Particulate Matters(SPM/RSPM)** which should be controlled."
   ]
  },
  {
   "cell_type": "code",
   "execution_count": null,
   "metadata": {},
   "outputs": [],
   "source": []
  }
 ],
 "metadata": {
  "kernelspec": {
   "display_name": "Python 3",
   "language": "python",
   "name": "python3"
  },
  "language_info": {
   "codemirror_mode": {
    "name": "ipython",
    "version": 3
   },
   "file_extension": ".py",
   "mimetype": "text/x-python",
   "name": "python",
   "nbconvert_exporter": "python",
   "pygments_lexer": "ipython3",
   "version": "3.6.6"
  }
 },
 "nbformat": 4,
 "nbformat_minor": 2
}
